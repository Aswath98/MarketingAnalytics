{
 "cells": [
  {
   "cell_type": "code",
   "execution_count": 0,
   "metadata": {
    "colab": {},
    "colab_type": "code",
    "id": "jGw-IP-_OnBq"
   },
   "outputs": [],
   "source": [
    "# Importing libraries needed\n",
    "import pandas as pd\n",
    "import numpy as np\n",
    "import matplotlib.pyplot as plt"
   ]
  },
  {
   "cell_type": "code",
   "execution_count": 0,
   "metadata": {
    "colab": {},
    "colab_type": "code",
    "id": "YD0pkpdoPt4M"
   },
   "outputs": [],
   "source": [
    "# Dataset available in analytics vidhaya is made a copy in github\n",
    "# Copy this url to see the data set\n",
    "train = pd.read_csv('https://raw.githubusercontent.com/Aswath98/MarketingAnalytics/master/train.csv')\n",
    "test = pd.read_csv('https://raw.githubusercontent.com/Aswath98/MarketingAnalytics/master/test.csv')"
   ]
  },
  {
   "cell_type": "code",
   "execution_count": 92,
   "metadata": {
    "colab": {
     "base_uri": "https://localhost:8080/",
     "height": 206
    },
    "colab_type": "code",
    "id": "KbNbFBbM-rAp",
    "outputId": "0e81af58-b46f-4375-d78b-34b0c400df38"
   },
   "outputs": [
    {
     "data": {
      "text/html": [
       "<div>\n",
       "<style scoped>\n",
       "    .dataframe tbody tr th:only-of-type {\n",
       "        vertical-align: middle;\n",
       "    }\n",
       "\n",
       "    .dataframe tbody tr th {\n",
       "        vertical-align: top;\n",
       "    }\n",
       "\n",
       "    .dataframe thead th {\n",
       "        text-align: right;\n",
       "    }\n",
       "</style>\n",
       "<table border=\"1\" class=\"dataframe\">\n",
       "  <thead>\n",
       "    <tr style=\"text-align: right;\">\n",
       "      <th></th>\n",
       "      <th>Item_Identifier</th>\n",
       "      <th>Item_Weight</th>\n",
       "      <th>Item_Fat_Content</th>\n",
       "      <th>Item_Visibility</th>\n",
       "      <th>Item_Type</th>\n",
       "      <th>Item_MRP</th>\n",
       "      <th>Outlet_Identifier</th>\n",
       "      <th>Outlet_Establishment_Year</th>\n",
       "      <th>Outlet_Size</th>\n",
       "      <th>Outlet_Location_Type</th>\n",
       "      <th>Outlet_Type</th>\n",
       "      <th>Item_Outlet_Sales</th>\n",
       "    </tr>\n",
       "  </thead>\n",
       "  <tbody>\n",
       "    <tr>\n",
       "      <th>0</th>\n",
       "      <td>FDA15</td>\n",
       "      <td>9.30</td>\n",
       "      <td>Low Fat</td>\n",
       "      <td>0.016047</td>\n",
       "      <td>Dairy</td>\n",
       "      <td>249.8092</td>\n",
       "      <td>OUT049</td>\n",
       "      <td>1999</td>\n",
       "      <td>Medium</td>\n",
       "      <td>Tier 1</td>\n",
       "      <td>Supermarket Type1</td>\n",
       "      <td>3735.1380</td>\n",
       "    </tr>\n",
       "    <tr>\n",
       "      <th>1</th>\n",
       "      <td>DRC01</td>\n",
       "      <td>5.92</td>\n",
       "      <td>Regular</td>\n",
       "      <td>0.019278</td>\n",
       "      <td>Soft Drinks</td>\n",
       "      <td>48.2692</td>\n",
       "      <td>OUT018</td>\n",
       "      <td>2009</td>\n",
       "      <td>Medium</td>\n",
       "      <td>Tier 3</td>\n",
       "      <td>Supermarket Type2</td>\n",
       "      <td>443.4228</td>\n",
       "    </tr>\n",
       "    <tr>\n",
       "      <th>2</th>\n",
       "      <td>FDN15</td>\n",
       "      <td>17.50</td>\n",
       "      <td>Low Fat</td>\n",
       "      <td>0.016760</td>\n",
       "      <td>Meat</td>\n",
       "      <td>141.6180</td>\n",
       "      <td>OUT049</td>\n",
       "      <td>1999</td>\n",
       "      <td>Medium</td>\n",
       "      <td>Tier 1</td>\n",
       "      <td>Supermarket Type1</td>\n",
       "      <td>2097.2700</td>\n",
       "    </tr>\n",
       "  </tbody>\n",
       "</table>\n",
       "</div>"
      ],
      "text/plain": [
       "  Item_Identifier  Item_Weight  ...        Outlet_Type  Item_Outlet_Sales\n",
       "0           FDA15         9.30  ...  Supermarket Type1          3735.1380\n",
       "1           DRC01         5.92  ...  Supermarket Type2           443.4228\n",
       "2           FDN15        17.50  ...  Supermarket Type1          2097.2700\n",
       "\n",
       "[3 rows x 12 columns]"
      ]
     },
     "execution_count": 92,
     "metadata": {
      "tags": []
     },
     "output_type": "execute_result"
    }
   ],
   "source": [
    "# Vizualizing Dataset\n",
    "train.head(3)"
   ]
  },
  {
   "cell_type": "code",
   "execution_count": 93,
   "metadata": {
    "colab": {
     "base_uri": "https://localhost:8080/",
     "height": 34
    },
    "colab_type": "code",
    "id": "YHrgTySc9D9C",
    "outputId": "7e90182c-fad7-4c75-b496-8195d5628a8a"
   },
   "outputs": [
    {
     "data": {
      "text/plain": [
       "1559"
      ]
     },
     "execution_count": 93,
     "metadata": {
      "tags": []
     },
     "output_type": "execute_result"
    }
   ],
   "source": [
    "# List of unique products\n",
    "len(train['Item_Identifier'].unique())"
   ]
  },
  {
   "cell_type": "code",
   "execution_count": 0,
   "metadata": {
    "colab": {},
    "colab_type": "code",
    "id": "m96m9Q3tf_Ku"
   },
   "outputs": [],
   "source": [
    "# Data description\n",
    "train.describe()"
   ]
  },
  {
   "cell_type": "code",
   "execution_count": 0,
   "metadata": {
    "colab": {},
    "colab_type": "code",
    "id": "x_Rcr2DYpge8"
   },
   "outputs": [],
   "source": [
    "# Finding number of null values in each column\n",
    "train.isna().sum()"
   ]
  },
  {
   "cell_type": "markdown",
   "metadata": {
    "colab_type": "text",
    "id": "vjTzI6k82kYv"
   },
   "source": [
    "item weight and outlet size have missing"
   ]
  },
  {
   "cell_type": "code",
   "execution_count": 0,
   "metadata": {
    "colab": {},
    "colab_type": "code",
    "id": "cfE_a1yBR-dA"
   },
   "outputs": [],
   "source": [
    "train['Item_Fat_Content'].unique() # Item fat content is only 2 - Low fat and Normal, replace others with a standard on"
   ]
  },
  {
   "cell_type": "markdown",
   "metadata": {
    "colab_type": "text",
    "id": "oHjnSvGz698A"
   },
   "source": [
    "['Low Fat', 'Regular', 'low fat', 'LF', 'reg'] - LF, low fat and Low Fat are same while reg and Regular are same "
   ]
  },
  {
   "cell_type": "code",
   "execution_count": 0,
   "metadata": {
    "colab": {},
    "colab_type": "code",
    "id": "qepJpUQRSSGw"
   },
   "outputs": [],
   "source": [
    "train.replace({'reg':'Regular','LF':'Low Fat','low fat':'Low Fat'},inplace = True)\n",
    "test.replace({'reg':'Regular','LF':'Low Fat','low fat':'Low Fat'},inplace = True)"
   ]
  },
  {
   "cell_type": "code",
   "execution_count": 0,
   "metadata": {
    "colab": {},
    "colab_type": "code",
    "id": "A8kYJhOcUIF5"
   },
   "outputs": [],
   "source": [
    "train['Outlet_Type'].unique()"
   ]
  },
  {
   "cell_type": "code",
   "execution_count": 0,
   "metadata": {
    "colab": {},
    "colab_type": "code",
    "id": "I0zvsElx8DYD"
   },
   "outputs": [],
   "source": [
    "train.isna().sum()"
   ]
  },
  {
   "cell_type": "code",
   "execution_count": 0,
   "metadata": {
    "colab": {},
    "colab_type": "code",
    "id": "NHrIy5Ld7O6M"
   },
   "outputs": [],
   "source": [
    "train_data = pd.DataFrame()\n",
    "for item in list(set(train['Item_Identifier'])):\n",
    "  temp = train.loc[train['Item_Identifier']==item].copy()\n",
    "\n",
    "  temp['Item_Weight'].fillna(temp['Item_Weight'].mean(),inplace = True)\n",
    "  train_data = train_data.append(temp)\n",
    "print(train_data)"
   ]
  },
  {
   "cell_type": "code",
   "execution_count": 0,
   "metadata": {
    "colab": {},
    "colab_type": "code",
    "id": "1_KijhZBZ99T"
   },
   "outputs": [],
   "source": [
    "test_data = pd.DataFrame()\n",
    "for item in list(set(test['Item_Identifier'])):\n",
    "  temp = test.loc[test['Item_Identifier']==item].copy()\n",
    "\n",
    "  temp['Item_Weight'].fillna(temp['Item_Weight'].mean(),inplace = True)\n",
    "  test_data = test_data.append(temp)\n",
    "print(test_data)"
   ]
  },
  {
   "cell_type": "code",
   "execution_count": 0,
   "metadata": {
    "colab": {},
    "colab_type": "code",
    "id": "AYiO8U2f7wQF"
   },
   "outputs": [],
   "source": [
    "train_data.isna().sum()"
   ]
  },
  {
   "cell_type": "code",
   "execution_count": 103,
   "metadata": {
    "colab": {
     "base_uri": "https://localhost:8080/",
     "height": 34
    },
    "colab_type": "code",
    "id": "qlA6T8UD-3K7",
    "outputId": "e1c1b6f9-56fa-4fd9-f32e-edbbb1c6ada4"
   },
   "outputs": [
    {
     "data": {
      "text/plain": [
       "['FDN52', 'FDK57', 'FDE52', 'FDQ60']"
      ]
     },
     "execution_count": 103,
     "metadata": {
      "tags": []
     },
     "output_type": "execute_result"
    }
   ],
   "source": [
    "products = list(train_data[train_data['Item_Weight'].isnull()]['Item_Identifier'])\n",
    "products"
   ]
  },
  {
   "cell_type": "code",
   "execution_count": 104,
   "metadata": {
    "colab": {
     "base_uri": "https://localhost:8080/",
     "height": 34
    },
    "colab_type": "code",
    "id": "GWMMqJ5BaLzv",
    "outputId": "ec3c49de-9c4c-4274-9dd2-2c2f44c903c1"
   },
   "outputs": [
    {
     "data": {
      "text/plain": [
       "20"
      ]
     },
     "execution_count": 104,
     "metadata": {
      "tags": []
     },
     "output_type": "execute_result"
    }
   ],
   "source": [
    "test_products = list(test_data[test_data['Item_Weight'].isnull()]['Item_Identifier'])\n",
    "len(test_products)"
   ]
  },
  {
   "cell_type": "code",
   "execution_count": 0,
   "metadata": {
    "colab": {},
    "colab_type": "code",
    "id": "iMkclE-iaOsn"
   },
   "outputs": [],
   "source": [
    "product_price_test = []\n",
    "for item in test_products:\n",
    "  product_price_test.append(train[train['Item_Identifier'] == item].iloc[0]['Item_Weight'])\n",
    "dictionary = dict(zip(test_products, product_price_test))"
   ]
  },
  {
   "cell_type": "code",
   "execution_count": 0,
   "metadata": {
    "colab": {},
    "colab_type": "code",
    "id": "z9E8d0NX-JuV"
   },
   "outputs": [],
   "source": [
    "\n",
    "product_price = []\n",
    "for item in products:\n",
    "  product_price.append(test[test['Item_Identifier'] == item].iloc[0]['Item_Weight'])\n",
    "dictionary = dict(zip(products, product_price))"
   ]
  },
  {
   "cell_type": "code",
   "execution_count": 107,
   "metadata": {
    "colab": {
     "base_uri": "https://localhost:8080/",
     "height": 34
    },
    "colab_type": "code",
    "id": "bsbf2wH0Ck9m",
    "outputId": "83058b27-b3a7-4fdb-b765-3ac2cc606a79"
   },
   "outputs": [
    {
     "data": {
      "text/plain": [
       "{'FDE52': 10.395, 'FDK57': 10.195, 'FDN52': 9.395, 'FDQ60': 6.195}"
      ]
     },
     "execution_count": 107,
     "metadata": {
      "tags": []
     },
     "output_type": "execute_result"
    }
   ],
   "source": [
    "dictionary"
   ]
  },
  {
   "cell_type": "code",
   "execution_count": 0,
   "metadata": {
    "colab": {},
    "colab_type": "code",
    "id": "mmyXFwb9-1nP"
   },
   "outputs": [],
   "source": [
    "train_data.loc[train_data['Item_Weight'].isnull(),'Item_Weight'] = train_data['Item_Identifier'].map(dictionary)"
   ]
  },
  {
   "cell_type": "code",
   "execution_count": 0,
   "metadata": {
    "colab": {},
    "colab_type": "code",
    "id": "DuWN4Nwwaav-"
   },
   "outputs": [],
   "source": [
    "test_data.loc[test_data['Item_Weight'].isnull(),'Item_Weight'] = test_data['Item_Identifier'].map(dictionary)"
   ]
  },
  {
   "cell_type": "code",
   "execution_count": 110,
   "metadata": {
    "colab": {
     "base_uri": "https://localhost:8080/",
     "height": 235
    },
    "colab_type": "code",
    "id": "cdOjG91qCuEq",
    "outputId": "333e4cc1-b88d-4148-af6d-45cdac7bd5b2"
   },
   "outputs": [
    {
     "data": {
      "text/plain": [
       "Item_Identifier                 0\n",
       "Item_Weight                     0\n",
       "Item_Fat_Content                0\n",
       "Item_Visibility                 0\n",
       "Item_Type                       0\n",
       "Item_MRP                        0\n",
       "Outlet_Identifier               0\n",
       "Outlet_Establishment_Year       0\n",
       "Outlet_Size                  2410\n",
       "Outlet_Location_Type            0\n",
       "Outlet_Type                     0\n",
       "Item_Outlet_Sales               0\n",
       "dtype: int64"
      ]
     },
     "execution_count": 110,
     "metadata": {
      "tags": []
     },
     "output_type": "execute_result"
    }
   ],
   "source": [
    "train_data.isna().sum()"
   ]
  },
  {
   "cell_type": "code",
   "execution_count": 111,
   "metadata": {
    "colab": {
     "base_uri": "https://localhost:8080/",
     "height": 50
    },
    "colab_type": "code",
    "id": "OzInPHIKdDyr",
    "outputId": "c5b5ac3d-115d-46d0-f5ec-cc0b9515955c"
   },
   "outputs": [
    {
     "data": {
      "text/plain": [
       "array(['Supermarket Type1', 'Grocery Store', 'Supermarket Type3',\n",
       "       'Supermarket Type2'], dtype=object)"
      ]
     },
     "execution_count": 111,
     "metadata": {
      "tags": []
     },
     "output_type": "execute_result"
    }
   ],
   "source": [
    "train_data['Outlet_Type'].unique()"
   ]
  },
  {
   "cell_type": "code",
   "execution_count": 0,
   "metadata": {
    "colab": {},
    "colab_type": "code",
    "id": "vzr2ZuNXad2F"
   },
   "outputs": [],
   "source": []
  },
  {
   "cell_type": "code",
   "execution_count": 0,
   "metadata": {
    "colab": {},
    "colab_type": "code",
    "id": "WleOovCvawYU"
   },
   "outputs": [],
   "source": [
    "train_data.loc[train_data['Outlet_Type']=='Grocery Store', 'Outlet_Size'] = 'Small'"
   ]
  },
  {
   "cell_type": "code",
   "execution_count": 0,
   "metadata": {
    "colab": {},
    "colab_type": "code",
    "id": "36vn410edUdM"
   },
   "outputs": [],
   "source": [
    "train_data.loc[train_data['Outlet_Type']=='Supermarket Type1', 'Outlet_Size'] = train_data['Outlet_Size'].fillna('Small')\n",
    "train_data.loc[train_data['Outlet_Type']=='Supermarket Type2', 'Outlet_Size'] = train_data['Outlet_Size'].fillna('Medium')"
   ]
  },
  {
   "cell_type": "code",
   "execution_count": 114,
   "metadata": {
    "colab": {
     "base_uri": "https://localhost:8080/",
     "height": 235
    },
    "colab_type": "code",
    "id": "fyqIVHttdrzB",
    "outputId": "08751c12-594e-4645-f386-4087040dccc9"
   },
   "outputs": [
    {
     "data": {
      "text/plain": [
       "Item_Identifier              0\n",
       "Item_Weight                  0\n",
       "Item_Fat_Content             0\n",
       "Item_Visibility              0\n",
       "Item_Type                    0\n",
       "Item_MRP                     0\n",
       "Outlet_Identifier            0\n",
       "Outlet_Establishment_Year    0\n",
       "Outlet_Size                  0\n",
       "Outlet_Location_Type         0\n",
       "Outlet_Type                  0\n",
       "Item_Outlet_Sales            0\n",
       "dtype: int64"
      ]
     },
     "execution_count": 114,
     "metadata": {
      "tags": []
     },
     "output_type": "execute_result"
    }
   ],
   "source": [
    "train_data.isna().sum()"
   ]
  },
  {
   "cell_type": "code",
   "execution_count": 0,
   "metadata": {
    "colab": {},
    "colab_type": "code",
    "id": "g1Gw4Y_2aen3"
   },
   "outputs": [],
   "source": [
    "test_data.loc[test_data['Outlet_Type']=='Grocery Store', 'Outlet_Size'] = 'Small'\n",
    "test_data.loc[test_data['Outlet_Type']=='Supermarket Type1', 'Outlet_Size'] = test_data['Outlet_Size'].fillna('Small')\n",
    "test_data.loc[test_data['Outlet_Type']=='Supermarket Type2', 'Outlet_Size'] = test_data['Outlet_Size'].fillna('Medium')"
   ]
  },
  {
   "cell_type": "code",
   "execution_count": 0,
   "metadata": {
    "colab": {},
    "colab_type": "code",
    "id": "_XZnF_bEd40K"
   },
   "outputs": [],
   "source": [
    "train_data.to_csv('trainData.csv')"
   ]
  },
  {
   "cell_type": "markdown",
   "metadata": {
    "colab_type": "text",
    "id": "TzzigiBgbJIa"
   },
   "source": [
    "Data Preprocessing "
   ]
  },
  {
   "cell_type": "code",
   "execution_count": 0,
   "metadata": {
    "colab": {},
    "colab_type": "code",
    "id": "7vnZrgZUbILd"
   },
   "outputs": [],
   "source": [
    "train = pd.read_csv('https://raw.githubusercontent.com/Aswath98/MarketingAnalytics/master/MA/trainData.csv',index_col=0)"
   ]
  },
  {
   "cell_type": "code",
   "execution_count": 118,
   "metadata": {
    "colab": {
     "base_uri": "https://localhost:8080/",
     "height": 34
    },
    "colab_type": "code",
    "id": "Q0ZyP0Bvbj9m",
    "outputId": "f5dcc033-0dc5-484a-b264-97308dee7585"
   },
   "outputs": [
    {
     "data": {
      "text/plain": [
       "(526, 12)"
      ]
     },
     "execution_count": 118,
     "metadata": {
      "tags": []
     },
     "output_type": "execute_result"
    }
   ],
   "source": [
    "train[train['Item_Visibility']==0].shape"
   ]
  },
  {
   "cell_type": "code",
   "execution_count": 0,
   "metadata": {
    "colab": {},
    "colab_type": "code",
    "id": "yPMsnDXmbojN"
   },
   "outputs": [],
   "source": [
    "train_data = pd.DataFrame()\n",
    "for item in list(set(train['Item_Identifier'])):\n",
    "  temp = train.loc[train['Item_Identifier']==item].copy()\n",
    "  temp['Item_Visibility'] = temp['Item_Visibility'].replace(to_replace = 0, value = temp['Item_Visibility'].mean())\n",
    "  train_data = train_data.append(temp,ignore_index=False)\n",
    "#print(train_data)"
   ]
  },
  {
   "cell_type": "code",
   "execution_count": 0,
   "metadata": {
    "colab": {},
    "colab_type": "code",
    "id": "07qBygp6bwG3"
   },
   "outputs": [],
   "source": [
    "testData = pd.DataFrame()\n",
    "for item in list(set(test['Item_Identifier'])):\n",
    "  temp = test_data.loc[test_data['Item_Identifier']==item].copy()\n",
    "  temp['Item_Visibility'] = temp['Item_Visibility'].replace(to_replace = 0, value = temp['Item_Visibility'].mean())\n",
    "  testData = testData.append(temp,ignore_index=False)"
   ]
  },
  {
   "cell_type": "code",
   "execution_count": 121,
   "metadata": {
    "colab": {
     "base_uri": "https://localhost:8080/",
     "height": 84
    },
    "colab_type": "code",
    "id": "IWogjySpbxci",
    "outputId": "11072687-04a1-4dcc-974d-c17fe5cde5b0"
   },
   "outputs": [
    {
     "data": {
      "text/plain": [
       "Food              6125\n",
       "Non-Consumable    1599\n",
       "Drinks             799\n",
       "Name: Item_Type_Combined, dtype: int64"
      ]
     },
     "execution_count": 121,
     "metadata": {
      "tags": []
     },
     "output_type": "execute_result"
    }
   ],
   "source": [
    "train_data['Item_Type_Combined'] = train_data['Item_Identifier'].apply(lambda x: x[0:2])\n",
    "#Rename them to more intuitive categories:\n",
    "train_data['Item_Type_Combined'] = train_data['Item_Type_Combined'].map({'FD':'Food',\n",
    "                                                             'NC':'Non-Consumable',\n",
    "                                                             'DR':'Drinks'})\n",
    "train_data['Item_Type_Combined'].value_counts()"
   ]
  },
  {
   "cell_type": "code",
   "execution_count": 122,
   "metadata": {
    "colab": {
     "base_uri": "https://localhost:8080/",
     "height": 84
    },
    "colab_type": "code",
    "id": "rnMBkU3eb1D1",
    "outputId": "7f28352d-470e-48f7-b000-55b265cb65ae"
   },
   "outputs": [
    {
     "data": {
      "text/plain": [
       "Food              4076\n",
       "Non-Consumable    1087\n",
       "Drinks             518\n",
       "Name: Item_Type_Combined, dtype: int64"
      ]
     },
     "execution_count": 122,
     "metadata": {
      "tags": []
     },
     "output_type": "execute_result"
    }
   ],
   "source": [
    "#Get the first two characters of ID:\n",
    "testData['Item_Type_Combined'] = testData['Item_Identifier'].apply(lambda x: x[0:2])\n",
    "#Rename them to more intuitive categories:\n",
    "testData['Item_Type_Combined'] = testData['Item_Type_Combined'].map({'FD':'Food',\n",
    "                                                             'NC':'Non-Consumable',\n",
    "                                                             'DR':'Drinks'})\n",
    "testData['Item_Type_Combined'].value_counts()"
   ]
  },
  {
   "cell_type": "code",
   "execution_count": 0,
   "metadata": {
    "colab": {},
    "colab_type": "code",
    "id": "nfldGTEeb3Rd"
   },
   "outputs": [],
   "source": [
    "train_data['Outlet_Age'] = 2013 - train_data['Outlet_Establishment_Year']\n",
    "testData['Outlet_Age'] = 2013 - testData['Outlet_Establishment_Year']"
   ]
  },
  {
   "cell_type": "code",
   "execution_count": 0,
   "metadata": {
    "colab": {},
    "colab_type": "code",
    "id": "bYDy49L8b8Nn"
   },
   "outputs": [],
   "source": [
    "categorical_columns = list(train_data.columns[train_data.dtypes == 'object'])\n",
    "usefull = ['Item_Identifier','Outlet_Identifier']\n",
    "for i in usefull:\n",
    "    categorical_columns.remove(i)\n"
   ]
  },
  {
   "cell_type": "code",
   "execution_count": 0,
   "metadata": {
    "colab": {},
    "colab_type": "code",
    "id": "y5BFkaIgcGPD"
   },
   "outputs": [],
   "source": [
    "from sklearn import preprocessing \n",
    "  \n",
    "# label_encoder object knows how to understand word labels. \n",
    "label_encoder = preprocessing.LabelEncoder() \n",
    "  \n",
    "for column in categorical_columns:\n",
    "    train_data[column]= label_encoder.fit_transform(train_data[column]) "
   ]
  },
  {
   "cell_type": "code",
   "execution_count": 0,
   "metadata": {
    "colab": {},
    "colab_type": "code",
    "id": "TMPuElsocNU1"
   },
   "outputs": [],
   "source": [
    "label_encoder = preprocessing.LabelEncoder() \n",
    "  \n",
    "for column in categorical_columns:\n",
    "    testData[column]= label_encoder.fit_transform(testData[column]) "
   ]
  },
  {
   "cell_type": "code",
   "execution_count": 0,
   "metadata": {
    "colab": {},
    "colab_type": "code",
    "id": "jKQ8caYAcNo6"
   },
   "outputs": [],
   "source": [
    "train_data.to_csv('DataToModel.csv')\n",
    "testData.to_csv('TestData.csv')"
   ]
  },
  {
   "cell_type": "markdown",
   "metadata": {
    "colab_type": "text",
    "id": "Vd47qUT1czik"
   },
   "source": [
    "Modelling \n"
   ]
  },
  {
   "cell_type": "markdown",
   "metadata": {
    "colab_type": "text",
    "id": "7_avkirojqbj"
   },
   "source": [
    "Mean of all products"
   ]
  },
  {
   "cell_type": "code",
   "execution_count": 0,
   "metadata": {
    "colab": {},
    "colab_type": "code",
    "id": "6BdLRt7Xc1AE"
   },
   "outputs": [],
   "source": [
    "#Mean based:\n",
    "mean_sales = train_data['Item_Outlet_Sales'].mean()"
   ]
  },
  {
   "cell_type": "code",
   "execution_count": 0,
   "metadata": {
    "colab": {},
    "colab_type": "code",
    "id": "WT91K1ypc1FH"
   },
   "outputs": [],
   "source": [
    "mean_sales = train.groupby('Item_Identifier')['Item_Outlet_Sales'].mean().reset_index()"
   ]
  },
  {
   "cell_type": "markdown",
   "metadata": {
    "colab_type": "text",
    "id": "SDDcbtfWjs6s"
   },
   "source": [
    "Mean by items"
   ]
  },
  {
   "cell_type": "code",
   "execution_count": 0,
   "metadata": {
    "colab": {},
    "colab_type": "code",
    "id": "pD1yeif2c1Jr"
   },
   "outputs": [],
   "source": [
    "mean_sales_by_outlet = train.groupby('Outlet_Identifier')['Item_Outlet_Sales'].mean().reset_index()"
   ]
  },
  {
   "cell_type": "code",
   "execution_count": 0,
   "metadata": {
    "colab": {},
    "colab_type": "code",
    "id": "HkYVKpwPc1N_"
   },
   "outputs": [],
   "source": [
    "mean_sales.to_csv('mean_sales.csv')"
   ]
  },
  {
   "cell_type": "code",
   "execution_count": 0,
   "metadata": {
    "colab": {},
    "colab_type": "code",
    "id": "JIyOe6aPc1Mb"
   },
   "outputs": [],
   "source": [
    "sample = pd.read_csv('https://raw.githubusercontent.com/Aswath98/MarketingAnalytics/master/MA/Submissions/SampleSubmission.csv')"
   ]
  },
  {
   "cell_type": "code",
   "execution_count": 0,
   "metadata": {
    "colab": {},
    "colab_type": "code",
    "id": "nr2pcfHSc1H5"
   },
   "outputs": [],
   "source": [
    "merged_inner = pd.merge(left=sample, right=mean_sales, left_on='Item_Identifier', right_on='Item_Identifier')"
   ]
  },
  {
   "cell_type": "code",
   "execution_count": 0,
   "metadata": {
    "colab": {},
    "colab_type": "code",
    "id": "88yfxSjXc1DD"
   },
   "outputs": [],
   "source": [
    "merged_inner_by_outlet = pd.merge(left=sample, right=mean_sales_by_outlet, left_on='Outlet_Identifier', right_on='Outlet_Identifier')"
   ]
  },
  {
   "cell_type": "code",
   "execution_count": 0,
   "metadata": {
    "colab": {},
    "colab_type": "code",
    "id": "RjvGZMO7dYri"
   },
   "outputs": [],
   "source": [
    "del merged_inner['Item_Outlet_Sales_x']\n",
    "del merged_inner_by_outlet['Item_Outlet_Sales_x']"
   ]
  },
  {
   "cell_type": "code",
   "execution_count": 0,
   "metadata": {
    "colab": {},
    "colab_type": "code",
    "id": "o8kntlCSddC3"
   },
   "outputs": [],
   "source": [
    "merged_inner.to_csv('SampleSubmissionGroupbyItems.csv')\n",
    "merged_inner_by_outlet.to_csv('SampleSubmissionGroupbyOutlets.csv')"
   ]
  },
  {
   "cell_type": "code",
   "execution_count": 0,
   "metadata": {
    "colab": {},
    "colab_type": "code",
    "id": "jyWRs0Vaer8u"
   },
   "outputs": [],
   "source": [
    "import pandas as pd\n",
    "import numpy as np\n",
    "import matplotlib.pyplot as plt\n",
    "from sklearn.linear_model import LinearRegression, Ridge, Lasso\n",
    "from sklearn import metrics\n"
   ]
  },
  {
   "cell_type": "code",
   "execution_count": 0,
   "metadata": {
    "colab": {},
    "colab_type": "code",
    "id": "oxG51FpkexbM"
   },
   "outputs": [],
   "source": [
    "train = pd.read_csv('https://raw.githubusercontent.com/Aswath98/MarketingAnalytics/master/DataToModel.csv',index_col =[0])\n",
    "test = pd.read_csv('https://raw.githubusercontent.com/Aswath98/MarketingAnalytics/master/TestData.csv',index_col =[0])"
   ]
  },
  {
   "cell_type": "code",
   "execution_count": 0,
   "metadata": {
    "colab": {},
    "colab_type": "code",
    "id": "TbZLGyJcezmP"
   },
   "outputs": [],
   "source": [
    "del train['Outlet_Establishment_Year']\n",
    "del test['Outlet_Establishment_Year']"
   ]
  },
  {
   "cell_type": "code",
   "execution_count": 0,
   "metadata": {
    "colab": {},
    "colab_type": "code",
    "id": "DcE8bxD-e1ie"
   },
   "outputs": [],
   "source": [
    "IDcol = ['Item_Identifier','Outlet_Identifier']\n",
    "predictors = [x for x in train.columns if x not in ['Item_Outlet_Sales']+IDcol]"
   ]
  },
  {
   "cell_type": "code",
   "execution_count": 0,
   "metadata": {
    "colab": {},
    "colab_type": "code",
    "id": "5kn6OVLMe4VW"
   },
   "outputs": [],
   "source": [
    "X_train = train[predictors]\n",
    "Y_train = train['Item_Outlet_Sales']\n",
    "X_test = test[predictors]"
   ]
  },
  {
   "cell_type": "markdown",
   "metadata": {
    "colab_type": "text",
    "id": "sLt6MJ2ze5ab"
   },
   "source": [
    "Linear Regression "
   ]
  },
  {
   "cell_type": "code",
   "execution_count": 142,
   "metadata": {
    "colab": {
     "base_uri": "https://localhost:8080/",
     "height": 84
    },
    "colab_type": "code",
    "id": "dhrYiQvKe46H",
    "outputId": "c0ceb670-eb58-417e-cd4c-43c8ad67a6bb"
   },
   "outputs": [
    {
     "name": "stdout",
     "output_type": "stream",
     "text": [
      "-454.2308730508503\n",
      "[-6.79152294e-01  5.41258032e+01 -1.68054305e+03 -9.06649731e-01\n",
      "  1.55782823e+01 -1.35745594e+02 -3.00638207e+02  9.43149399e+02\n",
      " -2.07562442e+01 -1.71092905e+00]\n"
     ]
    }
   ],
   "source": [
    "regressor = LinearRegression(normalize=True)  \n",
    "regressor.fit(X_train, Y_train) #training the algorithm\n",
    "print(regressor.intercept_)\n",
    "#For retrieving the slope:\n",
    "print(regressor.coef_)\n",
    "y_pred = regressor.predict(X_test)\n",
    "test['Item_Outlet_Sales']=y_pred\n",
    "sample = test[['Item_Identifier','Outlet_Identifier','Item_Outlet_Sales']]\n",
    "sample.to_csv('LinearRegressionSubmission.csv')"
   ]
  },
  {
   "cell_type": "markdown",
   "metadata": {
    "colab_type": "text",
    "id": "f3wJnuZKjxMp"
   },
   "source": [
    "Ridge regression inorder to avoid overfitting "
   ]
  },
  {
   "cell_type": "code",
   "execution_count": 0,
   "metadata": {
    "colab": {},
    "colab_type": "code",
    "id": "sGE0WV5SfYsh"
   },
   "outputs": [],
   "source": [
    "ridge = Ridge(alpha=0.05,normalize=True)\n",
    "ridge.fit(X_train, Y_train) \n",
    "ridge_prediction = ridge.predict(X_test)\n",
    "test['Item_Outlet_Sales']=ridge_prediction\n",
    "ridgePred = test[['Item_Identifier','Outlet_Identifier','Item_Outlet_Sales']]\n",
    "ridgePred.to_csv('RidgeRegressionSubmission.csv')"
   ]
  },
  {
   "cell_type": "markdown",
   "metadata": {
    "colab_type": "text",
    "id": "Ls58V-tYj3j4"
   },
   "source": [
    "Decision Tree Regression "
   ]
  },
  {
   "cell_type": "code",
   "execution_count": 0,
   "metadata": {
    "colab": {},
    "colab_type": "code",
    "id": "_rJy4QT0j3IY"
   },
   "outputs": [],
   "source": []
  },
  {
   "cell_type": "code",
   "execution_count": 0,
   "metadata": {
    "colab": {},
    "colab_type": "code",
    "id": "61mlVw2EfbDQ"
   },
   "outputs": [],
   "source": [
    "from sklearn.tree import DecisionTreeRegressor\n",
    "DT = DecisionTreeRegressor(max_depth=15, min_samples_leaf=100)\n",
    "DT.fit(X_train, Y_train) \n",
    "DT_prediction = DT.predict(X_test)\n",
    "test['Item_Outlet_Sales']=DT_prediction\n",
    "DTPred = test[['Item_Identifier','Outlet_Identifier','Item_Outlet_Sales']]\n",
    "DTPred.to_csv('DTRegressionSubmission.csv')"
   ]
  },
  {
   "cell_type": "code",
   "execution_count": 0,
   "metadata": {
    "colab": {},
    "colab_type": "code",
    "id": "ud-2YR0Rfcol"
   },
   "outputs": [],
   "source": [
    "from sklearn.tree import DecisionTreeRegressor\n",
    "DT1 = DecisionTreeRegressor(max_depth=8, min_samples_leaf=150)\n",
    "DT1.fit(X_train, Y_train) \n",
    "DT1_prediction = DT1.predict(X_test)\n",
    "test['Item_Outlet_Sales']=DT1_prediction\n",
    "DT1Pred = test[['Item_Identifier','Outlet_Identifier','Item_Outlet_Sales']]\n",
    "DT1Pred.to_csv('DTRegression1Submission.csv',index=False)"
   ]
  },
  {
   "cell_type": "markdown",
   "metadata": {
    "colab_type": "text",
    "id": "oeOmQwfRmgju"
   },
   "source": [
    "Random forest"
   ]
  },
  {
   "cell_type": "code",
   "execution_count": 146,
   "metadata": {
    "colab": {
     "base_uri": "https://localhost:8080/",
     "height": 54
    },
    "colab_type": "code",
    "id": "9m2aPeTLfeOw",
    "outputId": "87e567f8-8029-4c92-f73f-ec3713f47a3c"
   },
   "outputs": [
    {
     "name": "stdout",
     "output_type": "stream",
     "text": [
      "{'bootstrap': True, 'ccp_alpha': 0.0, 'criterion': 'mse', 'max_depth': 5, 'max_features': 'auto', 'max_leaf_nodes': None, 'max_samples': None, 'min_impurity_decrease': 0.0, 'min_impurity_split': None, 'min_samples_leaf': 100, 'min_samples_split': 2, 'min_weight_fraction_leaf': 0.0, 'n_estimators': 200, 'n_jobs': 4, 'oob_score': False, 'random_state': None, 'verbose': 0, 'warm_start': False}\n"
     ]
    }
   ],
   "source": [
    "from sklearn.ensemble import RandomForestRegressor\n",
    "RF = RandomForestRegressor(n_estimators=200,max_depth=5, min_samples_leaf=100,n_jobs=4)\n",
    "print(RF.get_params())\n",
    "RF.fit(X_train, Y_train) \n",
    "RF_prediction = RF.predict(X_test)\n",
    "test['Item_Outlet_Sales']=RF_prediction\n",
    "RFPred = test[['Item_Identifier','Outlet_Identifier','Item_Outlet_Sales']]\n",
    "#RFPred.to_csv('RandomForestRegression1Submission.csv',index=False)"
   ]
  },
  {
   "cell_type": "code",
   "execution_count": 0,
   "metadata": {
    "colab": {},
    "colab_type": "code",
    "id": "g0yHd2T0fjS5"
   },
   "outputs": [],
   "source": [
    "from pprint import pprint\n",
    "from sklearn.model_selection import RandomizedSearchCV\n",
    "# Number of trees in random forest\n",
    "n_estimators = [int(x) for x in np.linspace(start = 200, stop = 2000, num = 10)]\n",
    "# Number of features to consider at every split\n",
    "max_features = ['auto', 'sqrt']\n",
    "# Maximum number of levels in tree\n",
    "max_depth = [int(x) for x in np.linspace(10, 110, num = 11)]\n",
    "max_depth.append(None)\n",
    "# Minimum number of samples required to split a node\n",
    "min_samples_split = [2, 5, 10]\n",
    "# Minimum number of samples required at each leaf node\n",
    "min_samples_leaf = [1, 2, 4]\n",
    "# Method of selecting samples for training each tree\n",
    "bootstrap = [True, False]\n",
    "# Create the random grid\n",
    "random_grid = {'n_estimators': n_estimators,\n",
    "               'max_features': max_features,\n",
    "               'max_depth': max_depth,\n",
    "               'min_samples_split': min_samples_split,\n",
    "               'min_samples_leaf': min_samples_leaf,\n",
    "               'bootstrap': bootstrap}\n",
    "pprint(random_grid)"
   ]
  },
  {
   "cell_type": "code",
   "execution_count": 0,
   "metadata": {
    "colab": {},
    "colab_type": "code",
    "id": "klHcQKFpflpS"
   },
   "outputs": [],
   "source": [
    "from sklearn.model_selection import RandomizedSearchCV"
   ]
  },
  {
   "cell_type": "code",
   "execution_count": 0,
   "metadata": {
    "colab": {},
    "colab_type": "code",
    "id": "0gZfiUjLfnbl"
   },
   "outputs": [],
   "source": [
    "# Use the random grid to search for best hyperparameters\n",
    "# First create the base model to tune\n",
    "rf = RandomForestRegressor()\n",
    "# Random search of parameters, using 3 fold cross validation, \n",
    "# search across 100 different combinations, and use all available cores\n",
    "rf_random = RandomizedSearchCV(estimator = rf, param_distributions = random_grid, n_iter = 100, cv = 3, verbose=2, random_state=42, n_jobs = -1)\n",
    "# Fit the random search model\n",
    "rf_random.fit(X_train, Y_train)"
   ]
  },
  {
   "cell_type": "code",
   "execution_count": 0,
   "metadata": {
    "colab": {},
    "colab_type": "code",
    "id": "NoWIfuWbfn3N"
   },
   "outputs": [],
   "source": [
    "param_distributions={'bootstrap': [True, False],\n",
    "                                        'max_depth': [10, 20, 30, 40, 50, 60,\n",
    "                                                      70, 80, 90, 100, 110,\n",
    "                                                      None],\n",
    "                                        'max_features': ['auto', 'sqrt'],\n",
    "                                        'min_samples_leaf': [1, 2, 4],\n",
    "                                        'min_samples_split': [2, 5, 10],\n",
    "                                        'n_estimators': [200, 400, 600, 800,\n",
    "                                                         1000, 1200, 1400, 1600,\n",
    "                                                         1800, 2000]}"
   ]
  },
  {
   "cell_type": "code",
   "execution_count": 0,
   "metadata": {
    "colab": {},
    "colab_type": "code",
    "id": "NsCrLWjVfqtm"
   },
   "outputs": [],
   "source": [
    "from sklearn.ensemble import RandomForestRegressor\n",
    "model = RandomForestRegressor(**pair)\n",
    "model.fit(X_train, Y_train) \n",
    "model_prediction = model.predict(X_test)\n",
    "test['Item_Outlet_Sales']=model_prediction\n",
    "modelPred = test[['Item_Identifier','Outlet_Identifier','Item_Outlet_Sales']]\n",
    "#RFPred.to_csv('RandomForestRegression1Submission.csv',index=False)"
   ]
  },
  {
   "cell_type": "code",
   "execution_count": 0,
   "metadata": {
    "colab": {},
    "colab_type": "code",
    "id": "HSA6TLJqfrWw"
   },
   "outputs": [],
   "source": [
    "modelPred.to_csv('RandomForestRegressionRandomGridSubmission.csv',index=False)"
   ]
  },
  {
   "cell_type": "code",
   "execution_count": 0,
   "metadata": {
    "colab": {},
    "colab_type": "code",
    "id": "Tr2DkHrVftLu"
   },
   "outputs": [],
   "source": [
    "!pip install lightgbm"
   ]
  },
  {
   "cell_type": "markdown",
   "metadata": {
    "colab_type": "text",
    "id": "PhuXWJTpmpFw"
   },
   "source": [
    "LightGBM "
   ]
  },
  {
   "cell_type": "code",
   "execution_count": 0,
   "metadata": {
    "colab": {},
    "colab_type": "code",
    "id": "R8cdy7VwfvQa"
   },
   "outputs": [],
   "source": [
    "import lightgbm"
   ]
  },
  {
   "cell_type": "code",
   "execution_count": 0,
   "metadata": {
    "colab": {},
    "colab_type": "code",
    "id": "InGWF26yfwuq"
   },
   "outputs": [],
   "source": [
    "params = {\n",
    "    'objective': 'regression',\n",
    "    'metric': {'l2', 'l1'},\n",
    "    'num_leaves': 31,\n",
    "    'learning_rate': 0.05,\n",
    "    'feature_fraction': 0.9,\n",
    "    'bagging_fraction': 0.8,\n",
    "    'bagging_freq': 5,\n",
    "    'verbose': 0\n",
    "}\n",
    "light = lightgbm.LGBMRegressor(num_leaves=31, max_depth=-1, learning_rate=0.1, n_estimators=100, subsample_for_bin=200000, objective=None, class_weight=None, min_split_gain=0.0, min_child_weight=0.001, min_child_samples=20, subsample=1.0, subsample_freq=0, colsample_bytree=1.0, reg_alpha=0.0, reg_lambda=0.0, random_state=None, n_jobs=-1, silent=True, importance_type='split')\n",
    "light.fit(X_train, Y_train) \n",
    "light_prediction = light.predict(X_test)\n",
    "test['Item_Outlet_Sales']=light_prediction\n",
    "lightPred = test[['Item_Identifier','Outlet_Identifier','Item_Outlet_Sales']]\n",
    "lightPred.to_csv('LightGBMRegression11Submission.csv',index=False)\n"
   ]
  },
  {
   "cell_type": "markdown",
   "metadata": {
    "colab_type": "text",
    "id": "7RmdW-1YmrKP"
   },
   "source": [
    "XGboost"
   ]
  },
  {
   "cell_type": "code",
   "execution_count": 147,
   "metadata": {
    "colab": {
     "base_uri": "https://localhost:8080/",
     "height": 101
    },
    "colab_type": "code",
    "id": "pGvkQMiqfyoZ",
    "outputId": "9257bb5d-dfb1-4801-f136-0fa5a31c7c46"
   },
   "outputs": [
    {
     "name": "stderr",
     "output_type": "stream",
     "text": [
      "/usr/local/lib/python3.6/dist-packages/xgboost/core.py:587: FutureWarning: Series.base is deprecated and will be removed in a future version\n",
      "  if getattr(data, 'base', None) is not None and \\\n",
      "/usr/local/lib/python3.6/dist-packages/xgboost/core.py:588: FutureWarning: Series.base is deprecated and will be removed in a future version\n",
      "  data.base is not None and isinstance(data, np.ndarray) \\\n"
     ]
    },
    {
     "name": "stdout",
     "output_type": "stream",
     "text": [
      "[05:51:45] WARNING: /workspace/src/objective/regression_obj.cu:152: reg:linear is now deprecated in favor of reg:squarederror.\n"
     ]
    }
   ],
   "source": [
    "from xgboost import XGBRegressor\n",
    "xg = XGBRegressor()\n",
    "xg.fit(X_train, Y_train) \n",
    "xg_prediction = xg.predict(X_test)\n",
    "test['Item_Outlet_Sales']=xg_prediction\n",
    "xgPred = test[['Item_Identifier','Outlet_Identifier','Item_Outlet_Sales']]\n",
    "xgPred.to_csv('XGBoostRegressionSubmission.csv',index=False)"
   ]
  },
  {
   "cell_type": "code",
   "execution_count": 148,
   "metadata": {
    "colab": {
     "base_uri": "https://localhost:8080/",
     "height": 70
    },
    "colab_type": "code",
    "id": "ksFRGSy7f0Vp",
    "outputId": "54718cb1-acda-4073-966b-c5c014187928"
   },
   "outputs": [
    {
     "name": "stderr",
     "output_type": "stream",
     "text": [
      "/usr/local/lib/python3.6/dist-packages/sklearn/ensemble/_gb.py:1342: FutureWarning: The parameter 'presort' is deprecated and has no effect. It will be removed in v0.24. You can suppress this warning by not passing any value to the 'presort' parameter. We also recommend using HistGradientBoosting models instead.\n",
      "  FutureWarning)\n"
     ]
    }
   ],
   "source": [
    "from sklearn.ensemble import RandomForestRegressor, GradientBoostingRegressor, AdaBoostRegressor\n",
    "\n",
    "gb=GradientBoostingRegressor(alpha=0.999, criterion='friedman_mse', init=None,\n",
    "                          learning_rate=0.061, loss='huber', max_depth=3,\n",
    "                          max_features=None, max_leaf_nodes=None,\n",
    "                          min_impurity_decrease=0.0, min_impurity_split=None,\n",
    "                          min_samples_leaf=4, min_samples_split=4,\n",
    "                          min_weight_fraction_leaf=0.0, n_estimators=102,\n",
    "                          n_iter_no_change=None, presort='auto',\n",
    "                          random_state=None, subsample=1.0, tol=0.0001,\n",
    "                          validation_fraction=0.1, verbose=0, warm_start=False)\n",
    "gb.fit(X_train, Y_train) \n",
    "gb_prediction = gb.predict(X_test)\n",
    "test['Item_Outlet_Sales']=gb_prediction\n",
    "gbPred = test[['Item_Identifier','Outlet_Identifier','Item_Outlet_Sales']]\n",
    "gbPred.to_csv('GradientBoostingRegressionSubmission.csv',index=False)"
   ]
  },
  {
   "cell_type": "code",
   "execution_count": 0,
   "metadata": {
    "colab": {},
    "colab_type": "code",
    "id": "2BbVlUg1f2-p"
   },
   "outputs": [],
   "source": [
    "import sklearn\n",
    "extra = sklearn.ensemble.ExtraTreesRegressor(n_estimators=100, criterion='mse', max_depth=None, \n",
    "    min_samples_split=2, min_samples_leaf=1, min_weight_fraction_leaf=0.0,\n",
    "    max_features='auto', max_leaf_nodes=None, min_impurity_decrease=0.0, \n",
    "    min_impurity_split=None, bootstrap=False, oob_score=False, n_jobs=None,\n",
    "    random_state=None, verbose=0, warm_start=False, ccp_alpha=0.0, max_samples=None)\n",
    "extra.fit(X_train, Y_train) \n",
    "extra_prediction = extra.predict(X_test)\n",
    "test['Item_Outlet_Sales']=extra_prediction\n",
    "extraPred = test[['Item_Identifier','Outlet_Identifier','Item_Outlet_Sales']]\n",
    "extraPred.to_csv('ExtratreeRegressionSubmission.csv',index=False)"
   ]
  },
  {
   "cell_type": "code",
   "execution_count": 0,
   "metadata": {
    "colab": {},
    "colab_type": "code",
    "id": "V8trByTYf5Jj"
   },
   "outputs": [],
   "source": [
    "! pip install tpot \n",
    "import tpot"
   ]
  },
  {
   "cell_type": "code",
   "execution_count": 0,
   "metadata": {
    "colab": {},
    "colab_type": "code",
    "id": "tJYZXEyAf8UC"
   },
   "outputs": [],
   "source": [
    "from tpot import TPOTRegressor\n",
    "\n",
    "tpot = TPOTRegressor(verbosity = 2,\n",
    "                     generations=7,\n",
    "                     population_size=100)"
   ]
  },
  {
   "cell_type": "code",
   "execution_count": 0,
   "metadata": {
    "colab": {},
    "colab_type": "code",
    "id": "QrnQmokGf_Lp"
   },
   "outputs": [],
   "source": [
    "tpot.fit(X_train, Y_train)\n",
    "tpot_pred = tpot.predict(X_test)\n",
    "print(tpot_pred)\n",
    "test['Item_Outlet_Sales'] = tpot_pred\n",
    "tpotPred = test[['Item_Identifier','Outlet_Identifier','Item_Outlet_Sales']]\n",
    "tpotPred.to_csv('tpotSubmission.csv',index=False)\n",
    "files.download('tpotSubmission.csv')\n"
   ]
  },
  {
   "cell_type": "markdown",
   "metadata": {
    "colab_type": "text",
    "id": "toBgQH33qK26"
   },
   "source": []
  }
 ],
 "metadata": {
  "colab": {
   "collapsed_sections": [],
   "name": "MA.ipynb",
   "provenance": []
  },
  "kernelspec": {
   "display_name": "Python 3",
   "language": "python",
   "name": "python3"
  },
  "language_info": {
   "codemirror_mode": {
    "name": "ipython",
    "version": 3
   },
   "file_extension": ".py",
   "mimetype": "text/x-python",
   "name": "python",
   "nbconvert_exporter": "python",
   "pygments_lexer": "ipython3",
   "version": "3.6.5"
  }
 },
 "nbformat": 4,
 "nbformat_minor": 1
}
