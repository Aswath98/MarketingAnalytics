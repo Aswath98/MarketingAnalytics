{
  "nbformat": 4,
  "nbformat_minor": 0,
  "metadata": {
    "colab": {
      "name": "MA.ipynb",
      "provenance": [],
      "collapsed_sections": [],
      "include_colab_link": true
    },
    "kernelspec": {
      "name": "python3",
      "display_name": "Python 3"
    }
  },
  "cells": [
    {
      "cell_type": "markdown",
      "metadata": {
        "id": "view-in-github",
        "colab_type": "text"
      },
      "source": [
        "<a href=\"https://colab.research.google.com/github/Aswath98/MarketingAnalytics/blob/master/MA(MissingValues).ipynb\" target=\"_parent\"><img src=\"https://colab.research.google.com/assets/colab-badge.svg\" alt=\"Open In Colab\"/></a>"
      ]
    },
    {
      "cell_type": "code",
      "metadata": {
        "id": "jGw-IP-_OnBq",
        "colab_type": "code",
        "colab": {}
      },
      "source": [
        "# Importing libraries needed\n",
        "import pandas as pd\n",
        "import numpy as np\n",
        "import matplotlib.pyplot as plt"
      ],
      "execution_count": 0,
      "outputs": []
    },
    {
      "cell_type": "code",
      "metadata": {
        "id": "YD0pkpdoPt4M",
        "colab_type": "code",
        "colab": {}
      },
      "source": [
        "# Dataset available in analytics vidhaya is made a copy in github\n",
        "# Copy this url to see the data set\n",
        "train = pd.read_csv('https://raw.githubusercontent.com/Aswath98/MarketingAnalytics/master/train.csv')\n",
        "test = pd.read_csv('https://raw.githubusercontent.com/Aswath98/MarketingAnalytics/master/test.csv')"
      ],
      "execution_count": 0,
      "outputs": []
    },
    {
      "cell_type": "code",
      "metadata": {
        "id": "KbNbFBbM-rAp",
        "colab_type": "code",
        "colab": {}
      },
      "source": [
        "# Vizualizing Dataset\n",
        "train.head(3)"
      ],
      "execution_count": 0,
      "outputs": []
    },
    {
      "cell_type": "code",
      "metadata": {
        "id": "YHrgTySc9D9C",
        "colab_type": "code",
        "outputId": "25e202e2-08b3-45db-acdb-74b123a6d75d",
        "colab": {
          "base_uri": "https://localhost:8080/",
          "height": 34
        }
      },
      "source": [
        "# List of unique products\n",
        "len(train['Item_Identifier'].unique())"
      ],
      "execution_count": 58,
      "outputs": [
        {
          "output_type": "execute_result",
          "data": {
            "text/plain": [
              "1559"
            ]
          },
          "metadata": {
            "tags": []
          },
          "execution_count": 58
        }
      ]
    },
    {
      "cell_type": "code",
      "metadata": {
        "id": "m96m9Q3tf_Ku",
        "colab_type": "code",
        "colab": {}
      },
      "source": [
        "# Data description\n",
        "train.describe()"
      ],
      "execution_count": 0,
      "outputs": []
    },
    {
      "cell_type": "code",
      "metadata": {
        "id": "x_Rcr2DYpge8",
        "colab_type": "code",
        "colab": {}
      },
      "source": [
        "# Finding number of null values in each column\n",
        "train.isna().sum()"
      ],
      "execution_count": 0,
      "outputs": []
    },
    {
      "cell_type": "markdown",
      "metadata": {
        "id": "vjTzI6k82kYv",
        "colab_type": "text"
      },
      "source": [
        "item weight and outlet size have missing"
      ]
    },
    {
      "cell_type": "code",
      "metadata": {
        "id": "haM952FSo_U8",
        "colab_type": "code",
        "colab": {}
      },
      "source": [
        "# Vizualizing items and thier count\n",
        "from collections import Counter\n",
        "items = dict(Counter(df['Item_Identifier']))\n",
        "plt.barh(list(items.keys()),list(items.values()))"
      ],
      "execution_count": 0,
      "outputs": []
    },
    {
      "cell_type": "code",
      "metadata": {
        "id": "cfE_a1yBR-dA",
        "colab_type": "code",
        "outputId": "642f33e6-c868-4798-9406-f871d8ef1e3b",
        "colab": {
          "base_uri": "https://localhost:8080/",
          "height": 34
        }
      },
      "source": [
        "train['Item_Fat_Content'].unique() # Item fat content is only 2 - Low fat and Normal, replace others with a standard on"
      ],
      "execution_count": 78,
      "outputs": [
        {
          "output_type": "execute_result",
          "data": {
            "text/plain": [
              "array(['Low Fat', 'Regular', 'low fat', 'LF', 'reg'], dtype=object)"
            ]
          },
          "metadata": {
            "tags": []
          },
          "execution_count": 78
        }
      ]
    },
    {
      "cell_type": "markdown",
      "metadata": {
        "id": "oHjnSvGz698A",
        "colab_type": "text"
      },
      "source": [
        "['Low Fat', 'Regular', 'low fat', 'LF', 'reg'] - LF, low fat and Low Fat are same while reg and Regular are same "
      ]
    },
    {
      "cell_type": "code",
      "metadata": {
        "id": "qepJpUQRSSGw",
        "colab_type": "code",
        "colab": {}
      },
      "source": [
        "train.replace({'reg':'Regular','LF':'Low Fat','low fat':'Low Fat'},inplace = True)"
      ],
      "execution_count": 0,
      "outputs": []
    },
    {
      "cell_type": "code",
      "metadata": {
        "id": "A8kYJhOcUIF5",
        "colab_type": "code",
        "outputId": "a2f97116-36b5-4213-e81c-43e63b71fee1",
        "colab": {
          "base_uri": "https://localhost:8080/",
          "height": 50
        }
      },
      "source": [
        "train['Outlet_Type'].unique()"
      ],
      "execution_count": 84,
      "outputs": [
        {
          "output_type": "execute_result",
          "data": {
            "text/plain": [
              "array(['Supermarket Type1', 'Supermarket Type2', 'Grocery Store',\n",
              "       'Supermarket Type3'], dtype=object)"
            ]
          },
          "metadata": {
            "tags": []
          },
          "execution_count": 84
        }
      ]
    },
    {
      "cell_type": "code",
      "metadata": {
        "id": "I0zvsElx8DYD",
        "colab_type": "code",
        "colab": {
          "base_uri": "https://localhost:8080/",
          "height": 235
        },
        "outputId": "3475014b-e0a8-454f-f801-62fb75a984ed"
      },
      "source": [
        "train.isna().sum()"
      ],
      "execution_count": 85,
      "outputs": [
        {
          "output_type": "execute_result",
          "data": {
            "text/plain": [
              "Item_Identifier                 0\n",
              "Item_Weight                  1463\n",
              "Item_Fat_Content                0\n",
              "Item_Visibility                 0\n",
              "Item_Type                       0\n",
              "Item_MRP                        0\n",
              "Outlet_Identifier               0\n",
              "Outlet_Establishment_Year       0\n",
              "Outlet_Size                  2410\n",
              "Outlet_Location_Type            0\n",
              "Outlet_Type                     0\n",
              "Item_Outlet_Sales               0\n",
              "dtype: int64"
            ]
          },
          "metadata": {
            "tags": []
          },
          "execution_count": 85
        }
      ]
    },
    {
      "cell_type": "code",
      "metadata": {
        "id": "NHrIy5Ld7O6M",
        "colab_type": "code",
        "colab": {
          "base_uri": "https://localhost:8080/",
          "height": 336
        },
        "outputId": "ba7d60ea-9668-4cf0-c1fa-18cf04641a7b"
      },
      "source": [
        "train_data = pd.DataFrame()\n",
        "for item in list(set(train['Item_Identifier'])):\n",
        "  temp = train.loc[df['Item_Identifier']==item]\n",
        "\n",
        "  temp['Item_Weight'].fillna(temp['Item_Weight'].mean(),inplace = True)\n",
        "  train_data = train_data.append(temp)\n",
        "print(train_data)"
      ],
      "execution_count": 89,
      "outputs": [
        {
          "output_type": "stream",
          "text": [
            "/usr/local/lib/python3.6/dist-packages/pandas/core/generic.py:6287: SettingWithCopyWarning: \n",
            "A value is trying to be set on a copy of a slice from a DataFrame\n",
            "\n",
            "See the caveats in the documentation: http://pandas.pydata.org/pandas-docs/stable/user_guide/indexing.html#returning-a-view-versus-a-copy\n",
            "  self._update_inplace(new_data)\n"
          ],
          "name": "stderr"
        },
        {
          "output_type": "stream",
          "text": [
            "     Item_Identifier  Item_Weight  ...        Outlet_Type  Item_Outlet_Sales\n",
            "333            FDN58        13.80  ...  Supermarket Type3          9267.9360\n",
            "396            FDN58        13.80  ...  Supermarket Type1          3707.1744\n",
            "3475           FDN58        13.80  ...  Supermarket Type1          4633.9680\n",
            "7541           FDN58        13.80  ...  Supermarket Type1          5097.3648\n",
            "7989           FDN58        13.80  ...  Supermarket Type2          1390.1904\n",
            "...              ...          ...  ...                ...                ...\n",
            "568            FDD40        20.25  ...  Supermarket Type1          3848.3240\n",
            "1408           FDD40        20.25  ...  Supermarket Type1          3078.6592\n",
            "3552           FDD40        20.25  ...  Supermarket Type3          5195.2374\n",
            "3931           FDD40        20.25  ...  Supermarket Type1          1154.4972\n",
            "6271           FDD40        20.25  ...  Supermarket Type1          3463.4916\n",
            "\n",
            "[8523 rows x 12 columns]\n"
          ],
          "name": "stdout"
        }
      ]
    },
    {
      "cell_type": "code",
      "metadata": {
        "id": "AYiO8U2f7wQF",
        "colab_type": "code",
        "colab": {
          "base_uri": "https://localhost:8080/",
          "height": 235
        },
        "outputId": "c00127ef-b696-4f8c-aa83-3d7c9fe00dc4"
      },
      "source": [
        "train_data.isna().sum()"
      ],
      "execution_count": 90,
      "outputs": [
        {
          "output_type": "execute_result",
          "data": {
            "text/plain": [
              "Item_Identifier                 0\n",
              "Item_Weight                     4\n",
              "Item_Fat_Content                0\n",
              "Item_Visibility                 0\n",
              "Item_Type                       0\n",
              "Item_MRP                        0\n",
              "Outlet_Identifier               0\n",
              "Outlet_Establishment_Year       0\n",
              "Outlet_Size                  2410\n",
              "Outlet_Location_Type            0\n",
              "Outlet_Type                     0\n",
              "Item_Outlet_Sales               0\n",
              "dtype: int64"
            ]
          },
          "metadata": {
            "tags": []
          },
          "execution_count": 90
        }
      ]
    },
    {
      "cell_type": "code",
      "metadata": {
        "id": "qlA6T8UD-3K7",
        "colab_type": "code",
        "colab": {
          "base_uri": "https://localhost:8080/",
          "height": 34
        },
        "outputId": "7b19f99a-c2f4-452a-f2a5-55e5b18d0c9d"
      },
      "source": [
        "products = list(train_data[train_data['Item_Weight'].isnull()]['Item_Identifier'])\n",
        "products"
      ],
      "execution_count": 98,
      "outputs": [
        {
          "output_type": "execute_result",
          "data": {
            "text/plain": [
              "['FDK57', 'FDN52', 'FDE52', 'FDQ60']"
            ]
          },
          "metadata": {
            "tags": []
          },
          "execution_count": 98
        }
      ]
    },
    {
      "cell_type": "code",
      "metadata": {
        "id": "z9E8d0NX-JuV",
        "colab_type": "code",
        "colab": {}
      },
      "source": [
        "\n",
        "product_price = []\n",
        "for item in products:\n",
        "  product_price.append(test[test['Item_Identifier'] == item].iloc[0]['Item_Weight'])\n",
        "dictionary = dict(zip(products, product_price))"
      ],
      "execution_count": 0,
      "outputs": []
    },
    {
      "cell_type": "code",
      "metadata": {
        "id": "bsbf2wH0Ck9m",
        "colab_type": "code",
        "colab": {
          "base_uri": "https://localhost:8080/",
          "height": 34
        },
        "outputId": "e68c2aec-5970-4f19-9e70-7d3dcfbb8fbc"
      },
      "source": [
        "dictionary"
      ],
      "execution_count": 100,
      "outputs": [
        {
          "output_type": "execute_result",
          "data": {
            "text/plain": [
              "{'FDE52': 10.395, 'FDK57': 10.195, 'FDN52': 9.395, 'FDQ60': 6.195}"
            ]
          },
          "metadata": {
            "tags": []
          },
          "execution_count": 100
        }
      ]
    },
    {
      "cell_type": "code",
      "metadata": {
        "id": "mmyXFwb9-1nP",
        "colab_type": "code",
        "colab": {}
      },
      "source": [
        "train_data.loc[train_data['Item_Weight'].isnull(),'Item_Weight'] = train_data['Item_Identifier'].map(dictionary)"
      ],
      "execution_count": 0,
      "outputs": []
    },
    {
      "cell_type": "code",
      "metadata": {
        "id": "cdOjG91qCuEq",
        "colab_type": "code",
        "colab": {
          "base_uri": "https://localhost:8080/",
          "height": 235
        },
        "outputId": "f85139b4-556c-4562-d544-dccf6f6ea86d"
      },
      "source": [
        "train_data.isna().sum()"
      ],
      "execution_count": 104,
      "outputs": [
        {
          "output_type": "execute_result",
          "data": {
            "text/plain": [
              "Item_Identifier                 0\n",
              "Item_Weight                     0\n",
              "Item_Fat_Content                0\n",
              "Item_Visibility                 0\n",
              "Item_Type                       0\n",
              "Item_MRP                        0\n",
              "Outlet_Identifier               0\n",
              "Outlet_Establishment_Year       0\n",
              "Outlet_Size                  2410\n",
              "Outlet_Location_Type            0\n",
              "Outlet_Type                     0\n",
              "Item_Outlet_Sales               0\n",
              "dtype: int64"
            ]
          },
          "metadata": {
            "tags": []
          },
          "execution_count": 104
        }
      ]
    },
    {
      "cell_type": "code",
      "metadata": {
        "id": "OzInPHIKdDyr",
        "colab_type": "code",
        "colab": {
          "base_uri": "https://localhost:8080/",
          "height": 50
        },
        "outputId": "eb5c98ea-8b47-4449-c04f-72c2bcd5fd30"
      },
      "source": [
        "train_data['Outlet_Type'].unique()"
      ],
      "execution_count": 106,
      "outputs": [
        {
          "output_type": "execute_result",
          "data": {
            "text/plain": [
              "array(['Supermarket Type3', 'Supermarket Type1', 'Supermarket Type2',\n",
              "       'Grocery Store'], dtype=object)"
            ]
          },
          "metadata": {
            "tags": []
          },
          "execution_count": 106
        }
      ]
    },
    {
      "cell_type": "code",
      "metadata": {
        "id": "WleOovCvawYU",
        "colab_type": "code",
        "colab": {}
      },
      "source": [
        "train_data.loc[train_data['Outlet_Type']=='Grocery Store', 'Outlet_Size'] = 'Small'"
      ],
      "execution_count": 0,
      "outputs": []
    },
    {
      "cell_type": "code",
      "metadata": {
        "id": "36vn410edUdM",
        "colab_type": "code",
        "colab": {}
      },
      "source": [
        "train_data.loc[train_data['Outlet_Type']=='Supermarket Type1', 'Outlet_Size'] = train_data['Outlet_Size'].fillna('Small')\n",
        "train_data.loc[train_data['Outlet_Type']=='Supermarket Type2', 'Outlet_Size'] = train_data['Outlet_Size'].fillna('Medium')"
      ],
      "execution_count": 0,
      "outputs": []
    },
    {
      "cell_type": "code",
      "metadata": {
        "id": "fyqIVHttdrzB",
        "colab_type": "code",
        "colab": {
          "base_uri": "https://localhost:8080/",
          "height": 235
        },
        "outputId": "5137e151-5161-4df7-d34d-9a46957c900d"
      },
      "source": [
        "train_data.isna().sum()"
      ],
      "execution_count": 109,
      "outputs": [
        {
          "output_type": "execute_result",
          "data": {
            "text/plain": [
              "Item_Identifier              0\n",
              "Item_Weight                  0\n",
              "Item_Fat_Content             0\n",
              "Item_Visibility              0\n",
              "Item_Type                    0\n",
              "Item_MRP                     0\n",
              "Outlet_Identifier            0\n",
              "Outlet_Establishment_Year    0\n",
              "Outlet_Size                  0\n",
              "Outlet_Location_Type         0\n",
              "Outlet_Type                  0\n",
              "Item_Outlet_Sales            0\n",
              "dtype: int64"
            ]
          },
          "metadata": {
            "tags": []
          },
          "execution_count": 109
        }
      ]
    },
    {
      "cell_type": "code",
      "metadata": {
        "id": "_XZnF_bEd40K",
        "colab_type": "code",
        "colab": {}
      },
      "source": [
        "train_data.to_csv('trainData.csv')"
      ],
      "execution_count": 0,
      "outputs": []
    },
    {
      "cell_type": "markdown",
      "metadata": {
        "id": "toBgQH33qK26",
        "colab_type": "text"
      },
      "source": [
        ""
      ]
    }
  ]
}