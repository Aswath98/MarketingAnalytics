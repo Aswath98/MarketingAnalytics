{
  "nbformat": 4,
  "nbformat_minor": 0,
  "metadata": {
    "colab": {
      "name": "Modelling.ipynb",
      "provenance": [],
      "private_outputs": true,
      "toc_visible": true
    },
    "kernelspec": {
      "name": "python3",
      "display_name": "Python 3"
    }
  },
  "cells": [
    {
      "cell_type": "code",
      "metadata": {
        "id": "Znq0Y_ZY3C-m",
        "colab_type": "code",
        "colab": {}
      },
      "source": [
        "import pandas as pd\n",
        "import numpy as np\n",
        "import matplotlib.pyplot as plt\n",
        "from sklearn.linear_model import LinearRegression, Ridge, Lasso\n",
        "from sklearn import metrics\n"
      ],
      "execution_count": 0,
      "outputs": []
    },
    {
      "cell_type": "code",
      "metadata": {
        "id": "p5yff1RE2nz4",
        "colab_type": "code",
        "colab": {}
      },
      "source": [
        "train = pd.read_csv('https://raw.githubusercontent.com/Aswath98/MarketingAnalytics/master/DataToModel.csv',index_col =[0])\n",
        "test = pd.read_csv('https://raw.githubusercontent.com/Aswath98/MarketingAnalytics/master/TestData.csv',index_col =[0])"
      ],
      "execution_count": 0,
      "outputs": []
    },
    {
      "cell_type": "code",
      "metadata": {
        "id": "Mix4Agvr3lOr",
        "colab_type": "code",
        "colab": {}
      },
      "source": [
        "print(train.columns)\n",
        "test.columns"
      ],
      "execution_count": 0,
      "outputs": []
    },
    {
      "cell_type": "code",
      "metadata": {
        "id": "v77ezSMB8Kw2",
        "colab_type": "code",
        "colab": {}
      },
      "source": [
        "del train['Outlet_Establishment_Year']\n",
        "del test['Outlet_Establishment_Year']"
      ],
      "execution_count": 0,
      "outputs": []
    },
    {
      "cell_type": "code",
      "metadata": {
        "id": "VkjUtcIlARhx",
        "colab_type": "code",
        "colab": {}
      },
      "source": [
        "IDcol = ['Item_Identifier','Outlet_Identifier']\n",
        "predictors = [x for x in train.columns if x not in ['Item_Outlet_Sales']+IDcol]"
      ],
      "execution_count": 0,
      "outputs": []
    },
    {
      "cell_type": "code",
      "metadata": {
        "id": "j4VNpxQUAknJ",
        "colab_type": "code",
        "colab": {}
      },
      "source": [
        "predictors"
      ],
      "execution_count": 0,
      "outputs": []
    },
    {
      "cell_type": "code",
      "metadata": {
        "id": "pgab2_27Apgr",
        "colab_type": "code",
        "colab": {}
      },
      "source": [
        "X_train = train[predictors]\n",
        "Y_train = train['Item_Outlet_Sales']\n",
        "X_test = test[predictors]"
      ],
      "execution_count": 0,
      "outputs": []
    },
    {
      "cell_type": "code",
      "metadata": {
        "id": "5P7jq40gAEbE",
        "colab_type": "code",
        "colab": {}
      },
      "source": [
        "regressor = LinearRegression(normalize=True)  \n",
        "regressor.fit(X_train, Y_train) #training the algorithm"
      ],
      "execution_count": 0,
      "outputs": []
    },
    {
      "cell_type": "code",
      "metadata": {
        "id": "mcBE-r_7BpXV",
        "colab_type": "code",
        "colab": {}
      },
      "source": [
        "print(regressor.intercept_)\n",
        "#For retrieving the slope:\n",
        "print(regressor.coef_)"
      ],
      "execution_count": 0,
      "outputs": []
    },
    {
      "cell_type": "code",
      "metadata": {
        "id": "-7229LOTBwV-",
        "colab_type": "code",
        "colab": {}
      },
      "source": [
        "y_pred = regressor.predict(X_test)"
      ],
      "execution_count": 0,
      "outputs": []
    },
    {
      "cell_type": "code",
      "metadata": {
        "id": "QP78EAzWB56O",
        "colab_type": "code",
        "colab": {}
      },
      "source": [
        "len(y_pred)"
      ],
      "execution_count": 0,
      "outputs": []
    },
    {
      "cell_type": "code",
      "metadata": {
        "id": "zJXSIrGbChWS",
        "colab_type": "code",
        "colab": {}
      },
      "source": [
        "test['Item_Outlet_Sales']=y_pred"
      ],
      "execution_count": 0,
      "outputs": []
    },
    {
      "cell_type": "code",
      "metadata": {
        "id": "8sDGU-4GGsrP",
        "colab_type": "code",
        "colab": {}
      },
      "source": [
        "sample = test[['Item_Identifier','Outlet_Identifier','Item_Outlet_Sales']]"
      ],
      "execution_count": 0,
      "outputs": []
    },
    {
      "cell_type": "code",
      "metadata": {
        "id": "NvAJ0Zs_IYYl",
        "colab_type": "code",
        "colab": {}
      },
      "source": [
        "sample.to_csv('LinearRegressionSubmission.csv')"
      ],
      "execution_count": 0,
      "outputs": []
    },
    {
      "cell_type": "code",
      "metadata": {
        "id": "0U2_aWUUMeLn",
        "colab_type": "code",
        "colab": {}
      },
      "source": [
        "ridge = Ridge(alpha=0.05,normalize=True)\n",
        "ridge.fit(X_train, Y_train) \n",
        "ridge_prediction = ridge.predict(X_test)\n",
        "test['Item_Outlet_Sales']=ridge_prediction\n",
        "ridgePred = test[['Item_Identifier','Outlet_Identifier','Item_Outlet_Sales']]\n",
        "ridgePred.to_csv('RidgeRegressionSubmission.csv')"
      ],
      "execution_count": 0,
      "outputs": []
    },
    {
      "cell_type": "code",
      "metadata": {
        "id": "Z44hBEI7PCSe",
        "colab_type": "code",
        "colab": {}
      },
      "source": [
        "test.head()"
      ],
      "execution_count": 0,
      "outputs": []
    },
    {
      "cell_type": "code",
      "metadata": {
        "id": "d271cUlEOdhy",
        "colab_type": "code",
        "colab": {}
      },
      "source": [
        "from sklearn.tree import DecisionTreeRegressor\n",
        "DT = DecisionTreeRegressor(max_depth=15, min_samples_leaf=100)\n",
        "DT.fit(X_train, Y_train) \n",
        "DT_prediction = DT.predict(X_test)\n",
        "test['Item_Outlet_Sales']=DT_prediction\n",
        "DTPred = test[['Item_Identifier','Outlet_Identifier','Item_Outlet_Sales']]\n",
        "DTPred.to_csv('DTRegressionSubmission.csv')"
      ],
      "execution_count": 0,
      "outputs": []
    },
    {
      "cell_type": "code",
      "metadata": {
        "id": "DsmjhIP-PsHU",
        "colab_type": "code",
        "colab": {}
      },
      "source": [
        "test"
      ],
      "execution_count": 0,
      "outputs": []
    }
  ]
}