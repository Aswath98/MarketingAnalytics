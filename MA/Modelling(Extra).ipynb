{
  "nbformat": 4,
  "nbformat_minor": 0,
  "metadata": {
    "colab": {
      "name": "Modelling.ipynb",
      "provenance": [],
      "private_outputs": true,
      "toc_visible": true
    },
    "kernelspec": {
      "name": "python3",
      "display_name": "Python 3"
    }
  },
  "cells": [
    {
      "cell_type": "code",
      "metadata": {
        "id": "Znq0Y_ZY3C-m",
        "colab_type": "code",
        "colab": {}
      },
      "source": [
        "import pandas as pd\n",
        "import numpy as np\n",
        "import matplotlib.pyplot as plt\n",
        "from sklearn.linear_model import LinearRegression, Ridge, Lasso\n",
        "from sklearn import metrics\n"
      ],
      "execution_count": 0,
      "outputs": []
    },
    {
      "cell_type": "code",
      "metadata": {
        "id": "p5yff1RE2nz4",
        "colab_type": "code",
        "colab": {}
      },
      "source": [
        "train = pd.read_csv('https://raw.githubusercontent.com/Aswath98/MarketingAnalytics/master/DataToModel.csv',index_col =[0])\n",
        "test = pd.read_csv('https://raw.githubusercontent.com/Aswath98/MarketingAnalytics/master/TestData.csv',index_col =[0])"
      ],
      "execution_count": 0,
      "outputs": []
    },
    {
      "cell_type": "code",
      "metadata": {
        "id": "Mix4Agvr3lOr",
        "colab_type": "code",
        "colab": {}
      },
      "source": [
        "print(train.columns)\n",
        "test.columns"
      ],
      "execution_count": 0,
      "outputs": []
    },
    {
      "cell_type": "code",
      "metadata": {
        "id": "v77ezSMB8Kw2",
        "colab_type": "code",
        "colab": {}
      },
      "source": [
        "del train['Outlet_Establishment_Year']\n",
        "del test['Outlet_Establishment_Year']"
      ],
      "execution_count": 0,
      "outputs": []
    },
    {
      "cell_type": "code",
      "metadata": {
        "id": "VkjUtcIlARhx",
        "colab_type": "code",
        "colab": {}
      },
      "source": [
        "IDcol = ['Item_Identifier','Outlet_Identifier']\n",
        "predictors = [x for x in train.columns if x not in ['Item_Outlet_Sales']+IDcol]"
      ],
      "execution_count": 0,
      "outputs": []
    },
    {
      "cell_type": "code",
      "metadata": {
        "id": "j4VNpxQUAknJ",
        "colab_type": "code",
        "colab": {}
      },
      "source": [
        "predictors"
      ],
      "execution_count": 0,
      "outputs": []
    },
    {
      "cell_type": "code",
      "metadata": {
        "id": "pgab2_27Apgr",
        "colab_type": "code",
        "colab": {}
      },
      "source": [
        "X_train = train[predictors]\n",
        "Y_train = train['Item_Outlet_Sales']\n",
        "X_test = test[predictors]"
      ],
      "execution_count": 0,
      "outputs": []
    },
    {
      "cell_type": "code",
      "metadata": {
        "id": "5P7jq40gAEbE",
        "colab_type": "code",
        "colab": {}
      },
      "source": [
        "regressor = LinearRegression(normalize=True)  \n",
        "regressor.fit(X_train, Y_train) #training the algorithm"
      ],
      "execution_count": 0,
      "outputs": []
    },
    {
      "cell_type": "code",
      "metadata": {
        "id": "mcBE-r_7BpXV",
        "colab_type": "code",
        "colab": {}
      },
      "source": [
        "print(regressor.intercept_)\n",
        "#For retrieving the slope:\n",
        "print(regressor.coef_)"
      ],
      "execution_count": 0,
      "outputs": []
    },
    {
      "cell_type": "code",
      "metadata": {
        "id": "-7229LOTBwV-",
        "colab_type": "code",
        "colab": {}
      },
      "source": [
        "y_pred = regressor.predict(X_test)"
      ],
      "execution_count": 0,
      "outputs": []
    },
    {
      "cell_type": "code",
      "metadata": {
        "id": "QP78EAzWB56O",
        "colab_type": "code",
        "colab": {}
      },
      "source": [
        "len(y_pred)"
      ],
      "execution_count": 0,
      "outputs": []
    },
    {
      "cell_type": "code",
      "metadata": {
        "id": "zJXSIrGbChWS",
        "colab_type": "code",
        "colab": {}
      },
      "source": [
        "test['Item_Outlet_Sales']=y_pred"
      ],
      "execution_count": 0,
      "outputs": []
    },
    {
      "cell_type": "code",
      "metadata": {
        "id": "8sDGU-4GGsrP",
        "colab_type": "code",
        "colab": {}
      },
      "source": [
        "sample = test[['Item_Identifier','Outlet_Identifier','Item_Outlet_Sales']]"
      ],
      "execution_count": 0,
      "outputs": []
    },
    {
      "cell_type": "code",
      "metadata": {
        "id": "NvAJ0Zs_IYYl",
        "colab_type": "code",
        "colab": {}
      },
      "source": [
        "sample.to_csv('LinearRegressionSubmission.csv')"
      ],
      "execution_count": 0,
      "outputs": []
    },
    {
      "cell_type": "code",
      "metadata": {
        "id": "0U2_aWUUMeLn",
        "colab_type": "code",
        "colab": {}
      },
      "source": [
        "ridge = Ridge(alpha=0.05,normalize=True)\n",
        "ridge.fit(X_train, Y_train) \n",
        "ridge_prediction = ridge.predict(X_test)\n",
        "test['Item_Outlet_Sales']=ridge_prediction\n",
        "ridgePred = test[['Item_Identifier','Outlet_Identifier','Item_Outlet_Sales']]\n",
        "ridgePred.to_csv('RidgeRegressionSubmission.csv')"
      ],
      "execution_count": 0,
      "outputs": []
    },
    {
      "cell_type": "code",
      "metadata": {
        "id": "Z44hBEI7PCSe",
        "colab_type": "code",
        "colab": {}
      },
      "source": [
        "test.head()"
      ],
      "execution_count": 0,
      "outputs": []
    },
    {
      "cell_type": "code",
      "metadata": {
        "id": "d271cUlEOdhy",
        "colab_type": "code",
        "colab": {}
      },
      "source": [
        "from sklearn.tree import DecisionTreeRegressor\n",
        "DT = DecisionTreeRegressor(max_depth=15, min_samples_leaf=100)\n",
        "DT.fit(X_train, Y_train) \n",
        "DT_prediction = DT.predict(X_test)\n",
        "test['Item_Outlet_Sales']=DT_prediction\n",
        "DTPred = test[['Item_Identifier','Outlet_Identifier','Item_Outlet_Sales']]\n",
        "DTPred.to_csv('DTRegressionSubmission.csv')"
      ],
      "execution_count": 0,
      "outputs": []
    },
    {
      "cell_type": "code",
      "metadata": {
        "id": "DsmjhIP-PsHU",
        "colab_type": "code",
        "colab": {}
      },
      "source": [
        "from sklearn.tree import DecisionTreeRegressor\n",
        "DT1 = DecisionTreeRegressor(max_depth=8, min_samples_leaf=150)\n",
        "DT1.fit(X_train, Y_train) \n",
        "DT1_prediction = DT1.predict(X_test)\n",
        "test['Item_Outlet_Sales']=DT1_prediction\n",
        "DT1Pred = test[['Item_Identifier','Outlet_Identifier','Item_Outlet_Sales']]\n",
        "DT1Pred.to_csv('DTRegression1Submission.csv',index=False)"
      ],
      "execution_count": 0,
      "outputs": []
    },
    {
      "cell_type": "code",
      "metadata": {
        "id": "B93kj8XkVSqG",
        "colab_type": "code",
        "colab": {}
      },
      "source": [
        "from sklearn.ensemble import RandomForestRegressor\n",
        "RF = RandomForestRegressor(n_estimators=200,max_depth=5, min_samples_leaf=100,n_jobs=4)\n",
        "RF.fit(X_train, Y_train) \n",
        "RF_prediction = RF.predict(X_test)\n",
        "test['Item_Outlet_Sales']=RF_prediction\n",
        "RFPred = test[['Item_Identifier','Outlet_Identifier','Item_Outlet_Sales']]\n",
        "RFPred.to_csv('RandomForestRegression1Submission.csv',index=False)"
      ],
      "execution_count": 0,
      "outputs": []
    },
    {
      "cell_type": "code",
      "metadata": {
        "id": "BhOmt-eYXU60",
        "colab_type": "code",
        "colab": {}
      },
      "source": [
        "!pip install lightgbm"
      ],
      "execution_count": 0,
      "outputs": []
    },
    {
      "cell_type": "code",
      "metadata": {
        "id": "4j3pqGTPXaSN",
        "colab_type": "code",
        "colab": {}
      },
      "source": [
        "import lightgbm"
      ],
      "execution_count": 0,
      "outputs": []
    },
    {
      "cell_type": "code",
      "metadata": {
        "id": "3182Zoq7WaDU",
        "colab_type": "code",
        "colab": {}
      },
      "source": [
        "params = {\n",
        "    'objective': 'regression',\n",
        "    'metric': {'l2', 'l1'},\n",
        "    'num_leaves': 31,\n",
        "    'learning_rate': 0.05,\n",
        "    'feature_fraction': 0.9,\n",
        "    'bagging_fraction': 0.8,\n",
        "    'bagging_freq': 5,\n",
        "    'verbose': 0\n",
        "}\n",
        "light = lightgbm.LGBMRegressor(num_leaves=31, max_depth=-1, learning_rate=0.1, n_estimators=100, subsample_for_bin=200000, objective=None, class_weight=None, min_split_gain=0.0, min_child_weight=0.001, min_child_samples=20, subsample=1.0, subsample_freq=0, colsample_bytree=1.0, reg_alpha=0.0, reg_lambda=0.0, random_state=None, n_jobs=-1, silent=True, importance_type='split')\n",
        "light.fit(X_train, Y_train) \n",
        "light_prediction = light.predict(X_test)\n",
        "test['Item_Outlet_Sales']=light_prediction\n",
        "lightPred = test[['Item_Identifier','Outlet_Identifier','Item_Outlet_Sales']]\n",
        "lightPred.to_csv('LightGBMRegression11Submission.csv',index=False)\n",
        "\n"
      ],
      "execution_count": 0,
      "outputs": []
    },
    {
      "cell_type": "code",
      "metadata": {
        "id": "1b4yWF07flqP",
        "colab_type": "code",
        "colab": {}
      },
      "source": [
        "from xgboost import XGBRegressor\n",
        "xg = XGBRegressor()\n",
        "xg.fit(X_train, Y_train) \n",
        "xg_prediction = xg.predict(X_test)\n",
        "test['Item_Outlet_Sales']=xg_prediction\n",
        "xgPred = test[['Item_Identifier','Outlet_Identifier','Item_Outlet_Sales']]\n",
        "xgPred.to_csv('XGBoostRegressionSubmission.csv',index=False)"
      ],
      "execution_count": 0,
      "outputs": []
    },
    {
      "cell_type": "code",
      "metadata": {
        "id": "CmdwbBxCq6Z7",
        "colab_type": "code",
        "colab": {}
      },
      "source": [
        "from sklearn.ensemble import RandomForestRegressor, GradientBoostingRegressor, AdaBoostRegressor\n",
        "\n",
        "gb=GradientBoostingRegressor(alpha=0.999, criterion='friedman_mse', init=None,\n",
        "                          learning_rate=0.061, loss='huber', max_depth=3,\n",
        "                          max_features=None, max_leaf_nodes=None,\n",
        "                          min_impurity_decrease=0.0, min_impurity_split=None,\n",
        "                          min_samples_leaf=4, min_samples_split=4,\n",
        "                          min_weight_fraction_leaf=0.0, n_estimators=102,\n",
        "                          n_iter_no_change=None, presort='auto',\n",
        "                          random_state=None, subsample=1.0, tol=0.0001,\n",
        "                          validation_fraction=0.1, verbose=0, warm_start=False)\n",
        "gb.fit(X_train, Y_train) \n",
        "gb_prediction = gb.predict(X_test)\n",
        "test['Item_Outlet_Sales']=gb_prediction\n",
        "gbPred = test[['Item_Identifier','Outlet_Identifier','Item_Outlet_Sales']]\n",
        "gbPred.to_csv('GradientBoostingRegressionSubmission.csv',index=False)"
      ],
      "execution_count": 0,
      "outputs": []
    },
    {
      "cell_type": "code",
      "metadata": {
        "id": "BcJdu3b_rz_J",
        "colab_type": "code",
        "colab": {}
      },
      "source": [
        "import sklearn\n",
        "extra = sklearn.ensemble.ExtraTreesRegressor(n_estimators=100, criterion='mse', max_depth=None, \n",
        "    min_samples_split=2, min_samples_leaf=1, min_weight_fraction_leaf=0.0,\n",
        "    max_features='auto', max_leaf_nodes=None, min_impurity_decrease=0.0, \n",
        "    min_impurity_split=None, bootstrap=False, oob_score=False, n_jobs=None,\n",
        "    random_state=None, verbose=0, warm_start=False, ccp_alpha=0.0, max_samples=None)\n",
        "extra.fit(X_train, Y_train) \n",
        "extra_prediction = extra.predict(X_test)\n",
        "test['Item_Outlet_Sales']=extra_prediction\n",
        "extraPred = test[['Item_Identifier','Outlet_Identifier','Item_Outlet_Sales']]\n",
        "extraPred.to_csv('ExtratreeRegressionSubmission.csv',index=False)"
      ],
      "execution_count": 0,
      "outputs": []
    }
  ]
}