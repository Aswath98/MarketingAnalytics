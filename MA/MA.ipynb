{
 "cells": [
  {
   "cell_type": "code",
   "execution_count": 0,
   "metadata": {
    "colab": {},
    "colab_type": "code",
    "id": "jGw-IP-_OnBq"
   },
   "outputs": [],
   "source": [
    "# Importing libraries needed\n",
    "import pandas as pd\n",
    "import numpy as np\n",
    "import matplotlib.pyplot as plt"
   ]
  },
  {
   "cell_type": "code",
   "execution_count": 0,
   "metadata": {
    "colab": {},
    "colab_type": "code",
    "id": "YD0pkpdoPt4M"
   },
   "outputs": [],
   "source": [
    "# Dataset available in analytics vidhaya is made a copy in github\n",
    "# Copy this url to see the data set\n",
    "train = pd.read_csv('https://raw.githubusercontent.com/Aswath98/MarketingAnalytics/master/train.csv')\n",
    "test = pd.read_csv('https://raw.githubusercontent.com/Aswath98/MarketingAnalytics/master/test.csv')"
   ]
  },
  {
   "cell_type": "code",
   "execution_count": 0,
   "metadata": {
    "colab": {},
    "colab_type": "code",
    "id": "KbNbFBbM-rAp"
   },
   "outputs": [],
   "source": [
    "# Vizualizing Dataset\n",
    "train.head(3)"
   ]
  },
  {
   "cell_type": "code",
   "execution_count": 0,
   "metadata": {
    "colab": {
     "base_uri": "https://localhost:8080/",
     "height": 34
    },
    "colab_type": "code",
    "id": "YHrgTySc9D9C",
    "outputId": "25e202e2-08b3-45db-acdb-74b123a6d75d"
   },
   "outputs": [
    {
     "data": {
      "text/plain": [
       "1559"
      ]
     },
     "execution_count": 58,
     "metadata": {
      "tags": []
     },
     "output_type": "execute_result"
    }
   ],
   "source": [
    "# List of unique products\n",
    "len(train['Item_Identifier'].unique())"
   ]
  },
  {
   "cell_type": "code",
   "execution_count": 0,
   "metadata": {
    "colab": {},
    "colab_type": "code",
    "id": "m96m9Q3tf_Ku"
   },
   "outputs": [],
   "source": [
    "# Data description\n",
    "train.describe()"
   ]
  },
  {
   "cell_type": "code",
   "execution_count": 0,
   "metadata": {
    "colab": {},
    "colab_type": "code",
    "id": "x_Rcr2DYpge8"
   },
   "outputs": [],
   "source": [
    "# Finding number of null values in each column\n",
    "train.isna().sum()"
   ]
  },
  {
   "cell_type": "markdown",
   "metadata": {
    "colab_type": "text",
    "id": "vjTzI6k82kYv"
   },
   "source": [
    "item weight and outlet size have missing"
   ]
  },
  {
   "cell_type": "code",
   "execution_count": 0,
   "metadata": {
    "colab": {},
    "colab_type": "code",
    "id": "haM952FSo_U8"
   },
   "outputs": [],
   "source": [
    "# Vizualizing items and thier count\n",
    "from collections import Counter\n",
    "items = dict(Counter(df['Item_Identifier']))\n",
    "plt.barh(list(items.keys()),list(items.values()))"
   ]
  },
  {
   "cell_type": "code",
   "execution_count": 0,
   "metadata": {
    "colab": {
     "base_uri": "https://localhost:8080/",
     "height": 34
    },
    "colab_type": "code",
    "id": "cfE_a1yBR-dA",
    "outputId": "642f33e6-c868-4798-9406-f871d8ef1e3b"
   },
   "outputs": [
    {
     "data": {
      "text/plain": [
       "array(['Low Fat', 'Regular', 'low fat', 'LF', 'reg'], dtype=object)"
      ]
     },
     "execution_count": 78,
     "metadata": {
      "tags": []
     },
     "output_type": "execute_result"
    }
   ],
   "source": [
    "train['Item_Fat_Content'].unique() # Item fat content is only 2 - Low fat and Normal, replace others with a standard on"
   ]
  },
  {
   "cell_type": "markdown",
   "metadata": {
    "colab_type": "text",
    "id": "oHjnSvGz698A"
   },
   "source": [
    "['Low Fat', 'Regular', 'low fat', 'LF', 'reg'] - LF, low fat and Low Fat are same while reg and Regular are same "
   ]
  },
  {
   "cell_type": "code",
   "execution_count": 0,
   "metadata": {
    "colab": {},
    "colab_type": "code",
    "id": "qepJpUQRSSGw"
   },
   "outputs": [],
   "source": [
    "train.replace({'reg':'Regular','LF':'Low Fat','low fat':'Low Fat'},inplace = True)"
   ]
  },
  {
   "cell_type": "code",
   "execution_count": 0,
   "metadata": {
    "colab": {
     "base_uri": "https://localhost:8080/",
     "height": 50
    },
    "colab_type": "code",
    "id": "A8kYJhOcUIF5",
    "outputId": "a2f97116-36b5-4213-e81c-43e63b71fee1"
   },
   "outputs": [
    {
     "data": {
      "text/plain": [
       "array(['Supermarket Type1', 'Supermarket Type2', 'Grocery Store',\n",
       "       'Supermarket Type3'], dtype=object)"
      ]
     },
     "execution_count": 84,
     "metadata": {
      "tags": []
     },
     "output_type": "execute_result"
    }
   ],
   "source": [
    "train['Outlet_Type'].unique()"
   ]
  },
  {
   "cell_type": "code",
   "execution_count": 0,
   "metadata": {
    "colab": {
     "base_uri": "https://localhost:8080/",
     "height": 235
    },
    "colab_type": "code",
    "id": "I0zvsElx8DYD",
    "outputId": "3475014b-e0a8-454f-f801-62fb75a984ed"
   },
   "outputs": [
    {
     "data": {
      "text/plain": [
       "Item_Identifier                 0\n",
       "Item_Weight                  1463\n",
       "Item_Fat_Content                0\n",
       "Item_Visibility                 0\n",
       "Item_Type                       0\n",
       "Item_MRP                        0\n",
       "Outlet_Identifier               0\n",
       "Outlet_Establishment_Year       0\n",
       "Outlet_Size                  2410\n",
       "Outlet_Location_Type            0\n",
       "Outlet_Type                     0\n",
       "Item_Outlet_Sales               0\n",
       "dtype: int64"
      ]
     },
     "execution_count": 85,
     "metadata": {
      "tags": []
     },
     "output_type": "execute_result"
    }
   ],
   "source": [
    "train.isna().sum()"
   ]
  },
  {
   "cell_type": "code",
   "execution_count": 0,
   "metadata": {
    "colab": {
     "base_uri": "https://localhost:8080/",
     "height": 336
    },
    "colab_type": "code",
    "id": "NHrIy5Ld7O6M",
    "outputId": "ba7d60ea-9668-4cf0-c1fa-18cf04641a7b"
   },
   "outputs": [
    {
     "name": "stderr",
     "output_type": "stream",
     "text": [
      "/usr/local/lib/python3.6/dist-packages/pandas/core/generic.py:6287: SettingWithCopyWarning: \n",
      "A value is trying to be set on a copy of a slice from a DataFrame\n",
      "\n",
      "See the caveats in the documentation: http://pandas.pydata.org/pandas-docs/stable/user_guide/indexing.html#returning-a-view-versus-a-copy\n",
      "  self._update_inplace(new_data)\n"
     ]
    },
    {
     "name": "stdout",
     "output_type": "stream",
     "text": [
      "     Item_Identifier  Item_Weight  ...        Outlet_Type  Item_Outlet_Sales\n",
      "333            FDN58        13.80  ...  Supermarket Type3          9267.9360\n",
      "396            FDN58        13.80  ...  Supermarket Type1          3707.1744\n",
      "3475           FDN58        13.80  ...  Supermarket Type1          4633.9680\n",
      "7541           FDN58        13.80  ...  Supermarket Type1          5097.3648\n",
      "7989           FDN58        13.80  ...  Supermarket Type2          1390.1904\n",
      "...              ...          ...  ...                ...                ...\n",
      "568            FDD40        20.25  ...  Supermarket Type1          3848.3240\n",
      "1408           FDD40        20.25  ...  Supermarket Type1          3078.6592\n",
      "3552           FDD40        20.25  ...  Supermarket Type3          5195.2374\n",
      "3931           FDD40        20.25  ...  Supermarket Type1          1154.4972\n",
      "6271           FDD40        20.25  ...  Supermarket Type1          3463.4916\n",
      "\n",
      "[8523 rows x 12 columns]\n"
     ]
    }
   ],
   "source": [
    "train_data = pd.DataFrame()\n",
    "for item in list(set(train['Item_Identifier'])):\n",
    "  temp = train.loc[df['Item_Identifier']==item]\n",
    "\n",
    "  temp['Item_Weight'].fillna(temp['Item_Weight'].mean(),inplace = True)\n",
    "  train_data = train_data.append(temp)\n",
    "print(train_data)"
   ]
  },
  {
   "cell_type": "code",
   "execution_count": 0,
   "metadata": {
    "colab": {
     "base_uri": "https://localhost:8080/",
     "height": 235
    },
    "colab_type": "code",
    "id": "AYiO8U2f7wQF",
    "outputId": "c00127ef-b696-4f8c-aa83-3d7c9fe00dc4"
   },
   "outputs": [
    {
     "data": {
      "text/plain": [
       "Item_Identifier                 0\n",
       "Item_Weight                     4\n",
       "Item_Fat_Content                0\n",
       "Item_Visibility                 0\n",
       "Item_Type                       0\n",
       "Item_MRP                        0\n",
       "Outlet_Identifier               0\n",
       "Outlet_Establishment_Year       0\n",
       "Outlet_Size                  2410\n",
       "Outlet_Location_Type            0\n",
       "Outlet_Type                     0\n",
       "Item_Outlet_Sales               0\n",
       "dtype: int64"
      ]
     },
     "execution_count": 90,
     "metadata": {
      "tags": []
     },
     "output_type": "execute_result"
    }
   ],
   "source": [
    "train_data.isna().sum()"
   ]
  },
  {
   "cell_type": "code",
   "execution_count": 0,
   "metadata": {
    "colab": {
     "base_uri": "https://localhost:8080/",
     "height": 34
    },
    "colab_type": "code",
    "id": "qlA6T8UD-3K7",
    "outputId": "7b19f99a-c2f4-452a-f2a5-55e5b18d0c9d"
   },
   "outputs": [
    {
     "data": {
      "text/plain": [
       "['FDK57', 'FDN52', 'FDE52', 'FDQ60']"
      ]
     },
     "execution_count": 98,
     "metadata": {
      "tags": []
     },
     "output_type": "execute_result"
    }
   ],
   "source": [
    "products = list(train_data[train_data['Item_Weight'].isnull()]['Item_Identifier'])\n",
    "products"
   ]
  },
  {
   "cell_type": "code",
   "execution_count": 0,
   "metadata": {
    "colab": {},
    "colab_type": "code",
    "id": "z9E8d0NX-JuV"
   },
   "outputs": [],
   "source": [
    "\n",
    "product_price = []\n",
    "for item in products:\n",
    "  product_price.append(test[test['Item_Identifier'] == item].iloc[0]['Item_Weight'])\n",
    "dictionary = dict(zip(products, product_price))"
   ]
  },
  {
   "cell_type": "code",
   "execution_count": 0,
   "metadata": {
    "colab": {
     "base_uri": "https://localhost:8080/",
     "height": 34
    },
    "colab_type": "code",
    "id": "bsbf2wH0Ck9m",
    "outputId": "e68c2aec-5970-4f19-9e70-7d3dcfbb8fbc"
   },
   "outputs": [
    {
     "data": {
      "text/plain": [
       "{'FDE52': 10.395, 'FDK57': 10.195, 'FDN52': 9.395, 'FDQ60': 6.195}"
      ]
     },
     "execution_count": 100,
     "metadata": {
      "tags": []
     },
     "output_type": "execute_result"
    }
   ],
   "source": [
    "dictionary"
   ]
  },
  {
   "cell_type": "code",
   "execution_count": 0,
   "metadata": {
    "colab": {},
    "colab_type": "code",
    "id": "mmyXFwb9-1nP"
   },
   "outputs": [],
   "source": [
    "train_data.loc[train_data['Item_Weight'].isnull(),'Item_Weight'] = train_data['Item_Identifier'].map(dictionary)"
   ]
  },
  {
   "cell_type": "code",
   "execution_count": 0,
   "metadata": {
    "colab": {
     "base_uri": "https://localhost:8080/",
     "height": 235
    },
    "colab_type": "code",
    "id": "cdOjG91qCuEq",
    "outputId": "f85139b4-556c-4562-d544-dccf6f6ea86d"
   },
   "outputs": [
    {
     "data": {
      "text/plain": [
       "Item_Identifier                 0\n",
       "Item_Weight                     0\n",
       "Item_Fat_Content                0\n",
       "Item_Visibility                 0\n",
       "Item_Type                       0\n",
       "Item_MRP                        0\n",
       "Outlet_Identifier               0\n",
       "Outlet_Establishment_Year       0\n",
       "Outlet_Size                  2410\n",
       "Outlet_Location_Type            0\n",
       "Outlet_Type                     0\n",
       "Item_Outlet_Sales               0\n",
       "dtype: int64"
      ]
     },
     "execution_count": 104,
     "metadata": {
      "tags": []
     },
     "output_type": "execute_result"
    }
   ],
   "source": [
    "train_data.isna().sum()"
   ]
  },
  {
   "cell_type": "code",
   "execution_count": 0,
   "metadata": {
    "colab": {
     "base_uri": "https://localhost:8080/",
     "height": 50
    },
    "colab_type": "code",
    "id": "OzInPHIKdDyr",
    "outputId": "eb5c98ea-8b47-4449-c04f-72c2bcd5fd30"
   },
   "outputs": [
    {
     "data": {
      "text/plain": [
       "array(['Supermarket Type3', 'Supermarket Type1', 'Supermarket Type2',\n",
       "       'Grocery Store'], dtype=object)"
      ]
     },
     "execution_count": 106,
     "metadata": {
      "tags": []
     },
     "output_type": "execute_result"
    }
   ],
   "source": [
    "train_data['Outlet_Type'].unique()"
   ]
  },
  {
   "cell_type": "code",
   "execution_count": 0,
   "metadata": {
    "colab": {},
    "colab_type": "code",
    "id": "WleOovCvawYU"
   },
   "outputs": [],
   "source": [
    "train_data.loc[train_data['Outlet_Type']=='Grocery Store', 'Outlet_Size'] = 'Small'"
   ]
  },
  {
   "cell_type": "code",
   "execution_count": 0,
   "metadata": {
    "colab": {},
    "colab_type": "code",
    "id": "36vn410edUdM"
   },
   "outputs": [],
   "source": [
    "train_data.loc[train_data['Outlet_Type']=='Supermarket Type1', 'Outlet_Size'] = train_data['Outlet_Size'].fillna('Small')\n",
    "train_data.loc[train_data['Outlet_Type']=='Supermarket Type2', 'Outlet_Size'] = train_data['Outlet_Size'].fillna('Medium')"
   ]
  },
  {
   "cell_type": "code",
   "execution_count": 0,
   "metadata": {
    "colab": {
     "base_uri": "https://localhost:8080/",
     "height": 235
    },
    "colab_type": "code",
    "id": "fyqIVHttdrzB",
    "outputId": "5137e151-5161-4df7-d34d-9a46957c900d"
   },
   "outputs": [
    {
     "data": {
      "text/plain": [
       "Item_Identifier              0\n",
       "Item_Weight                  0\n",
       "Item_Fat_Content             0\n",
       "Item_Visibility              0\n",
       "Item_Type                    0\n",
       "Item_MRP                     0\n",
       "Outlet_Identifier            0\n",
       "Outlet_Establishment_Year    0\n",
       "Outlet_Size                  0\n",
       "Outlet_Location_Type         0\n",
       "Outlet_Type                  0\n",
       "Item_Outlet_Sales            0\n",
       "dtype: int64"
      ]
     },
     "execution_count": 109,
     "metadata": {
      "tags": []
     },
     "output_type": "execute_result"
    }
   ],
   "source": [
    "train_data.isna().sum()"
   ]
  },
  {
   "cell_type": "code",
   "execution_count": 0,
   "metadata": {
    "colab": {},
    "colab_type": "code",
    "id": "_XZnF_bEd40K"
   },
   "outputs": [],
   "source": [
    "train_data.to_csv('trainData.csv')"
   ]
  },
  {
   "cell_type": "markdown",
   "metadata": {
    "colab_type": "text",
    "id": "toBgQH33qK26"
   },
   "source": []
  }
 ],
 "metadata": {
  "colab": {
   "collapsed_sections": [],
   "name": "MA.ipynb",
   "provenance": [],
   "toc_visible": true
  },
  "kernelspec": {
   "display_name": "Python 3",
   "language": "python",
   "name": "python3"
  },
  "language_info": {
   "codemirror_mode": {
    "name": "ipython",
    "version": 3
   },
   "file_extension": ".py",
   "mimetype": "text/x-python",
   "name": "python",
   "nbconvert_exporter": "python",
   "pygments_lexer": "ipython3",
   "version": "3.6.5"
  }
 },
 "nbformat": 4,
 "nbformat_minor": 1
}
